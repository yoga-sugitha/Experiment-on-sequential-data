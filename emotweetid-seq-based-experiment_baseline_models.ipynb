{
 "cells": [
  {
   "cell_type": "code",
   "execution_count": 1,
   "id": "190d3db3",
   "metadata": {
    "_cell_guid": "1db90a8a-d677-4f33-b34f-b1fb836b08f2",
    "_uuid": "749f005d-2e7d-47b5-bf3f-8163f386a00b",
    "collapsed": false,
    "execution": {
     "iopub.execute_input": "2025-10-11T11:59:58.168235Z",
     "iopub.status.busy": "2025-10-11T11:59:58.167924Z",
     "iopub.status.idle": "2025-10-11T12:00:09.914064Z",
     "shell.execute_reply": "2025-10-11T12:00:09.912979Z"
    },
    "jupyter": {
     "outputs_hidden": false
    },
    "papermill": {
     "duration": 11.753984,
     "end_time": "2025-10-11T12:00:09.915504",
     "exception": false,
     "start_time": "2025-10-11T11:59:58.161520",
     "status": "completed"
    },
    "tags": []
   },
   "outputs": [
    {
     "name": "stdout",
     "output_type": "stream",
     "text": [
      "Used device: cuda\n",
      "Number of GPUs: 2\n"
     ]
    }
   ],
   "source": [
    "import os, time, random, re\n",
    "import pandas as pd\n",
    "import numpy as np\n",
    "import matplotlib.pyplot as plt\n",
    "from sklearn.model_selection import train_test_split, StratifiedKFold\n",
    "from sklearn.metrics import f1_score, accuracy_score, classification_report\n",
    "from collections import Counter, OrderedDict\n",
    "from tqdm.auto import tqdm\n",
    "\n",
    "import torch\n",
    "import torch.nn as nn\n",
    "from torch.utils.data import Dataset, DataLoader, SubsetRandomSampler\n",
    "from torch.optim import Optimizer\n",
    "\n",
    "# Reproducible seed\n",
    "def set_seed(seed: int = 123):\n",
    "    random.seed(seed)\n",
    "    np.random.seed(seed)\n",
    "    os.environ.get('PYTHONHASHSEED') == str(seed)\n",
    "    torch.manual_seed(seed)\n",
    "    torch.cuda.manual_seed(seed)\n",
    "    torch.cuda.manual_seed_all(seed) \n",
    "\n",
    "\n",
    "device = \"cuda\" if torch.cuda.is_available() else \"cpu\"\n",
    "print(f\"Used device: {device}\\nNumber of GPUs: {torch.cuda.device_count()}\")"
   ]
  },
  {
   "cell_type": "code",
   "execution_count": 2,
   "id": "c2011859",
   "metadata": {
    "_cell_guid": "e55738b9-53a7-4c4f-af15-119ceada2670",
    "_uuid": "783ee222-72c9-4f87-8ea8-4e56c13e86a1",
    "collapsed": false,
    "execution": {
     "iopub.execute_input": "2025-10-11T12:00:09.927455Z",
     "iopub.status.busy": "2025-10-11T12:00:09.926917Z",
     "iopub.status.idle": "2025-10-11T12:00:09.997564Z",
     "shell.execute_reply": "2025-10-11T12:00:09.996815Z"
    },
    "jupyter": {
     "outputs_hidden": false
    },
    "papermill": {
     "duration": 0.0779,
     "end_time": "2025-10-11T12:00:09.998942",
     "exception": false,
     "start_time": "2025-10-11T12:00:09.921042",
     "status": "completed"
    },
    "tags": []
   },
   "outputs": [
    {
     "data": {
      "text/html": [
       "<div>\n",
       "<style scoped>\n",
       "    .dataframe tbody tr th:only-of-type {\n",
       "        vertical-align: middle;\n",
       "    }\n",
       "\n",
       "    .dataframe tbody tr th {\n",
       "        vertical-align: top;\n",
       "    }\n",
       "\n",
       "    .dataframe thead th {\n",
       "        text-align: right;\n",
       "    }\n",
       "</style>\n",
       "<table border=\"1\" class=\"dataframe\">\n",
       "  <thead>\n",
       "    <tr style=\"text-align: right;\">\n",
       "      <th></th>\n",
       "      <th>tweet</th>\n",
       "      <th>label</th>\n",
       "    </tr>\n",
       "  </thead>\n",
       "  <tbody>\n",
       "    <tr>\n",
       "      <th>0</th>\n",
       "      <td>wah belom liat muka gue lagi murka hahahaha</td>\n",
       "      <td>joy</td>\n",
       "    </tr>\n",
       "    <tr>\n",
       "      <th>1</th>\n",
       "      <td>Mungkin kurang piknik adrenalin. Mereka yg ske...</td>\n",
       "      <td>anger</td>\n",
       "    </tr>\n",
       "    <tr>\n",
       "      <th>2</th>\n",
       "      <td>maaf kalo tersinggung \"orang kurus cepet mati\"...</td>\n",
       "      <td>anger</td>\n",
       "    </tr>\n",
       "    <tr>\n",
       "      <th>3</th>\n",
       "      <td>berserah pada maha esa paling tabah dan sabar ...</td>\n",
       "      <td>joy</td>\n",
       "    </tr>\n",
       "    <tr>\n",
       "      <th>4</th>\n",
       "      <td>Ehekk malu la hahahahahahaha</td>\n",
       "      <td>sadness</td>\n",
       "    </tr>\n",
       "  </tbody>\n",
       "</table>\n",
       "</div>"
      ],
      "text/plain": [
       "                                               tweet    label\n",
       "0        wah belom liat muka gue lagi murka hahahaha      joy\n",
       "1  Mungkin kurang piknik adrenalin. Mereka yg ske...    anger\n",
       "2  maaf kalo tersinggung \"orang kurus cepet mati\"...    anger\n",
       "3  berserah pada maha esa paling tabah dan sabar ...      joy\n",
       "4                       Ehekk malu la hahahahahahaha  sadness"
      ]
     },
     "execution_count": 2,
     "metadata": {},
     "output_type": "execute_result"
    }
   ],
   "source": [
    "df = pd.read_csv('/kaggle/input/emotweetid-human-labeled-dataset/EmoTweetID-Human.csv')\n",
    "df.drop(columns='Unnamed: 0', inplace=True)\n",
    "df.head()"
   ]
  },
  {
   "cell_type": "code",
   "execution_count": 3,
   "id": "bff31ce4",
   "metadata": {
    "_cell_guid": "e127f62c-b2d3-4d8b-b5d4-8799c8a39ab9",
    "_uuid": "2cc98d41-7f8d-41cc-9b2a-bac93950f1e7",
    "collapsed": false,
    "execution": {
     "iopub.execute_input": "2025-10-11T12:00:10.010186Z",
     "iopub.status.busy": "2025-10-11T12:00:10.009905Z",
     "iopub.status.idle": "2025-10-11T12:00:10.328665Z",
     "shell.execute_reply": "2025-10-11T12:00:10.327749Z"
    },
    "jupyter": {
     "outputs_hidden": false
    },
    "papermill": {
     "duration": 0.325768,
     "end_time": "2025-10-11T12:00:10.330229",
     "exception": false,
     "start_time": "2025-10-11T12:00:10.004461",
     "status": "completed"
    },
    "tags": []
   },
   "outputs": [
    {
     "data": {
      "image/png": "[encoded data removed]",
      "text/plain": [
       "<Figure size 1000x500 with 1 Axes>"
      ]
     },
     "metadata": {},
     "output_type": "display_data"
    }
   ],
   "source": [
    "lc = df['label'].value_counts()\n",
    "plt.figure(figsize=(10,5))\n",
    "plt.bar(lc.index, lc.values, color='Gray')\n",
    "for i, v in enumerate(lc.values):\n",
    "    plt.text(i, v + 0.5, str(v), ha='center', va='bottom')\n",
    "plt.tight_layout()\n",
    "plt.show();"
   ]
  },
  {
   "cell_type": "code",
   "execution_count": 4,
   "id": "7ee3a943",
   "metadata": {
    "_cell_guid": "03f57f44-a548-459e-995e-15b83259a5f6",
    "_uuid": "c3d54835-61b8-46be-815c-c4e124dfcafc",
    "collapsed": false,
    "execution": {
     "iopub.execute_input": "2025-10-11T12:00:10.343760Z",
     "iopub.status.busy": "2025-10-11T12:00:10.343107Z",
     "iopub.status.idle": "2025-10-11T12:00:10.413054Z",
     "shell.execute_reply": "2025-10-11T12:00:10.412075Z"
    },
    "jupyter": {
     "outputs_hidden": false
    },
    "papermill": {
     "duration": 0.078067,
     "end_time": "2025-10-11T12:00:10.414503",
     "exception": false,
     "start_time": "2025-10-11T12:00:10.336436",
     "status": "completed"
    },
    "tags": []
   },
   "outputs": [
    {
     "name": "stdout",
     "output_type": "stream",
     "text": [
      "Max sequence length (in words):67 \n"
     ]
    }
   ],
   "source": [
    "set_seed()\n",
    "def text_preprocessing(text):\n",
    "    text = re.sub('<[^>]*>', '', text)\n",
    "    emoticons = re.findall('(?::|;|=)(?:-)?(?:\\)|\\(|D|P)', text.lower())\n",
    "    text = re.sub('[\\W]+', ' ', text.lower()) + ' ' + ' '.join(emoticons).replace('-', '')\n",
    "    return text.strip()\n",
    "\n",
    "df['tweet'] = df['tweet'].apply(text_preprocessing)\n",
    "\n",
    "\n",
    "vocab = set()\n",
    "for tweet in df['tweet']:\n",
    "    words = tweet.split()\n",
    "    vocab.update(words)\n",
    "\n",
    "# vocab = {word for phrase in df['tweet'] for word in phrase}\n",
    "word_to_idx = {word: idx for idx, word in enumerate(vocab, start=1)}\n",
    "word_to_idx['<PAD>'] = 0 # padding token (index 0) for any sequences shorter than max_length\n",
    "word_to_idx['<UNK>'] = len(word_to_idx) # add unknown token to vocab\n",
    "\n",
    "max_length = df['tweet'].apply(lambda x: len(x.split())).max()\n",
    "print(f\"Max sequence length (in words):{max_length} \")\n",
    "\n",
    "def encode_and_pad(text):\n",
    "    words = text.split()\n",
    "    encoded = []\n",
    "    \n",
    "    for word in words:\n",
    "        if word in word_to_idx:\n",
    "            encoded.append(word_to_idx[word])\n",
    "        else:\n",
    "            encoded.append(word_to_idx['<UNK>']) # special unknown token\n",
    "\n",
    "    # padding/truncation\n",
    "    if len(encoded) < max_length:\n",
    "        encoded += [word_to_idx['<PAD>']] * (max_length - len(encoded))\n",
    "    else:\n",
    "        encoded = encoded[:max_length]\n",
    "    return encoded\n",
    "\n",
    "\n",
    "df['tweet'] = df['tweet'].apply(encode_and_pad)"
   ]
  },
  {
   "cell_type": "code",
   "execution_count": 5,
   "id": "2be7f24b",
   "metadata": {
    "_cell_guid": "02ef2237-3db1-4b47-86d3-d5899fa5864b",
    "_uuid": "42493336-1255-4b22-af03-f2e5ee749375",
    "collapsed": false,
    "execution": {
     "iopub.execute_input": "2025-10-11T12:00:10.427534Z",
     "iopub.status.busy": "2025-10-11T12:00:10.426819Z",
     "iopub.status.idle": "2025-10-11T12:00:10.434641Z",
     "shell.execute_reply": "2025-10-11T12:00:10.433687Z"
    },
    "jupyter": {
     "outputs_hidden": false
    },
    "papermill": {
     "duration": 0.01536,
     "end_time": "2025-10-11T12:00:10.435764",
     "exception": false,
     "start_time": "2025-10-11T12:00:10.420404",
     "status": "completed"
    },
    "tags": []
   },
   "outputs": [
    {
     "name": "stdout",
     "output_type": "stream",
     "text": [
      "Class labels: {'anger': 0, 'disgust': 1, 'fear': 2, 'joy': 3, 'sadness': 4, 'surprise': 5}\n",
      "Total Classes: 6\n"
     ]
    }
   ],
   "source": [
    "class EmotDataset(Dataset):\n",
    "    def __init__(self, df):\n",
    "        self.label_to_idx = {label: idx for idx, label in enumerate(sorted(set(df['label'])))}\n",
    "        self.labels = df['label'].map(self.label_to_idx)\n",
    "        self.tweets = df['tweet'].values\n",
    "    def __len__(self): \n",
    "        return len(self.tweets)\n",
    "    def __getitem__(self, idx):\n",
    "        return torch.tensor(self.tweets[idx], dtype=torch.long), torch.tensor(self.labels[idx], dtype=torch.long)\n",
    "\n",
    "dataset = EmotDataset(df)\n",
    "print(f\"Class labels: {dataset.label_to_idx}\\nTotal Classes: {len(dataset.label_to_idx)}\")"
   ]
  },
  {
   "cell_type": "markdown",
   "id": "4425c29f",
   "metadata": {
    "_cell_guid": "28ea795b-d669-4ae1-8d07-1f2c223a7658",
    "_uuid": "6629352b-7a96-4601-a33b-54a6c1e1ce86",
    "collapsed": false,
    "jupyter": {
     "outputs_hidden": false
    },
    "papermill": {
     "duration": 0.005293,
     "end_time": "2025-10-11T12:00:10.446933",
     "exception": false,
     "start_time": "2025-10-11T12:00:10.441640",
     "status": "completed"
    },
    "tags": []
   },
   "source": [
    "### RNN"
   ]
  },
  {
   "cell_type": "code",
   "execution_count": 6,
   "id": "f04072aa",
   "metadata": {
    "_cell_guid": "53ed6106-a26a-424f-9ef0-09f381f50258",
    "_uuid": "bceee629-0f36-4abe-8338-adc513a65567",
    "collapsed": false,
    "execution": {
     "iopub.execute_input": "2025-10-11T12:00:10.458714Z",
     "iopub.status.busy": "2025-10-11T12:00:10.458446Z",
     "iopub.status.idle": "2025-10-11T12:00:10.463613Z",
     "shell.execute_reply": "2025-10-11T12:00:10.463021Z"
    },
    "jupyter": {
     "outputs_hidden": false
    },
    "papermill": {
     "duration": 0.012363,
     "end_time": "2025-10-11T12:00:10.464778",
     "exception": false,
     "start_time": "2025-10-11T12:00:10.452415",
     "status": "completed"
    },
    "tags": []
   },
   "outputs": [],
   "source": [
    "class EmotRNN(nn.Module):\n",
    "    def __init__(self, input_dim, hidden_dim, layer_dim, output_dim):\n",
    "        super(EmotRNN, self).__init__()\n",
    "        self.embedding = nn.Embedding(input_dim, layer_dim)\n",
    "        self.rnn = nn.RNN(layer_dim, hidden_dim, batch_first=True)\n",
    "        self.fc = nn.Linear(hidden_dim, output_dim)\n",
    "\n",
    "    def forward(self, x):\n",
    "        x = self.embedding(x)\n",
    "        out, _ = self.rnn(x)\n",
    "        out = out[:, -1, :]  # Last output\n",
    "        return self.fc(out)"
   ]
  },
  {
   "cell_type": "markdown",
   "id": "22bfeb08",
   "metadata": {
    "_cell_guid": "363b4590-1a46-4c4a-8255-90dbf24aa895",
    "_uuid": "b5e7cfb7-453f-47b8-bfeb-b305c1e3d228",
    "collapsed": false,
    "jupyter": {
     "outputs_hidden": false
    },
    "papermill": {
     "duration": 0.005432,
     "end_time": "2025-10-11T12:00:10.476155",
     "exception": false,
     "start_time": "2025-10-11T12:00:10.470723",
     "status": "completed"
    },
    "tags": []
   },
   "source": [
    "### LSTM"
   ]
  },
  {
   "cell_type": "code",
   "execution_count": 7,
   "id": "f026a4fe",
   "metadata": {
    "_cell_guid": "e389ec56-0105-4282-96d9-8252cea887cc",
    "_uuid": "2bf58449-d5a1-4ec3-a9c6-06d6cf6f8ffa",
    "collapsed": false,
    "execution": {
     "iopub.execute_input": "2025-10-11T12:00:10.488283Z",
     "iopub.status.busy": "2025-10-11T12:00:10.487996Z",
     "iopub.status.idle": "2025-10-11T12:00:10.493209Z",
     "shell.execute_reply": "2025-10-11T12:00:10.492637Z"
    },
    "jupyter": {
     "outputs_hidden": false
    },
    "papermill": {
     "duration": 0.012745,
     "end_time": "2025-10-11T12:00:10.494462",
     "exception": false,
     "start_time": "2025-10-11T12:00:10.481717",
     "status": "completed"
    },
    "tags": []
   },
   "outputs": [],
   "source": [
    "class EmotLSTM(nn.Module):\n",
    "    def __init__(self, input_dim, hidden_dim, layer_dim, output_dim):\n",
    "        super(EmotLSTM, self).__init__()\n",
    "        self.embedding = nn.Embedding(input_dim, layer_dim)\n",
    "        self.lstm = nn.LSTM(layer_dim, hidden_dim, batch_first=True)\n",
    "        self.fc = nn.Linear(hidden_dim, output_dim)\n",
    "\n",
    "    def forward(self, x):\n",
    "        x = self.embedding(x)\n",
    "        lstm_out, (hidden, cell) = self.lstm(x)\n",
    "        out = lstm_out[:, -1, :]  # Last output (consistent with RNN/GRU)\n",
    "        return self.fc(out)"
   ]
  },
  {
   "cell_type": "markdown",
   "id": "2f6ed703",
   "metadata": {
    "_cell_guid": "a115ecd7-0b17-4913-a960-fb133a158cc6",
    "_uuid": "8a9a88b3-c202-44af-a92d-ae180b1b1f33",
    "collapsed": false,
    "jupyter": {
     "outputs_hidden": false
    },
    "papermill": {
     "duration": 0.005453,
     "end_time": "2025-10-11T12:00:10.505391",
     "exception": false,
     "start_time": "2025-10-11T12:00:10.499938",
     "status": "completed"
    },
    "tags": []
   },
   "source": [
    "### GRU"
   ]
  },
  {
   "cell_type": "code",
   "execution_count": 8,
   "id": "7f02e6e4",
   "metadata": {
    "_cell_guid": "75fe98c5-8daa-4137-9428-44026b6a606d",
    "_uuid": "c365e0c6-1b6d-4514-9e5e-524ce31394c7",
    "collapsed": false,
    "execution": {
     "iopub.execute_input": "2025-10-11T12:00:10.518229Z",
     "iopub.status.busy": "2025-10-11T12:00:10.517526Z",
     "iopub.status.idle": "2025-10-11T12:00:10.523298Z",
     "shell.execute_reply": "2025-10-11T12:00:10.522505Z"
    },
    "jupyter": {
     "outputs_hidden": false
    },
    "papermill": {
     "duration": 0.013883,
     "end_time": "2025-10-11T12:00:10.524734",
     "exception": false,
     "start_time": "2025-10-11T12:00:10.510851",
     "status": "completed"
    },
    "tags": []
   },
   "outputs": [],
   "source": [
    "class EmotGRU(nn.Module):\n",
    "    def __init__(self, input_dim, hidden_dim, layer_dim, output_dim):\n",
    "        super(EmotGRU, self).__init__()\n",
    "        self.embedding = nn.Embedding(input_dim, layer_dim)\n",
    "        self.gru = nn.GRU(layer_dim, hidden_dim, batch_first=True)\n",
    "        self.fc = nn.Linear(hidden_dim, output_dim)\n",
    "\n",
    "    def forward(self, x):\n",
    "        x = self.embedding(x)\n",
    "        out, _ = self.gru(x)\n",
    "        out = out[:, -1, :]  # Last output\n",
    "        return self.fc(out)"
   ]
  },
  {
   "cell_type": "markdown",
   "id": "a0f3ceae",
   "metadata": {
    "_cell_guid": "48a99bce-f5ac-4f3e-9155-00dadbd1bb35",
    "_uuid": "268949d1-fe96-47d0-8c58-7930941792cd",
    "collapsed": false,
    "jupyter": {
     "outputs_hidden": false
    },
    "papermill": {
     "duration": 0.005751,
     "end_time": "2025-10-11T12:00:10.536418",
     "exception": false,
     "start_time": "2025-10-11T12:00:10.530667",
     "status": "completed"
    },
    "tags": []
   },
   "source": [
    "### RUNNING EXPERIMENTS"
   ]
  },
  {
   "cell_type": "code",
   "execution_count": 9,
   "id": "2f6083be",
   "metadata": {
    "_cell_guid": "dc16d9aa-f832-4a60-a064-edb92d29abbc",
    "_uuid": "43d14e3c-aa52-4dfe-8c12-0cac7abcda19",
    "collapsed": false,
    "execution": {
     "iopub.execute_input": "2025-10-11T12:00:10.549546Z",
     "iopub.status.busy": "2025-10-11T12:00:10.548866Z",
     "iopub.status.idle": "2025-10-11T12:00:10.559261Z",
     "shell.execute_reply": "2025-10-11T12:00:10.558560Z"
    },
    "jupyter": {
     "outputs_hidden": false
    },
    "papermill": {
     "duration": 0.018338,
     "end_time": "2025-10-11T12:00:10.560580",
     "exception": false,
     "start_time": "2025-10-11T12:00:10.542242",
     "status": "completed"
    },
    "tags": []
   },
   "outputs": [],
   "source": [
    "def training_with_early_stopping(model, train_dl, val_dl, loss_fn, optimizer, epochs, device, patience=3):\n",
    "    history = {\n",
    "        'train_loss': [], 'train_acc': [], \n",
    "        'val_loss': [], 'val_acc': []\n",
    "    }\n",
    "    best_val_loss = float('inf')\n",
    "    patience_counter = 0\n",
    "    best_model_weights = None\n",
    "    \n",
    "    for epoch in range(epochs):\n",
    "        # Training phase\n",
    "        model.train()\n",
    "        train_loss, train_correct, train_total = 0.0, 0, 0\n",
    "        \n",
    "        for X, y in train_dl:\n",
    "            X, y = X.to(device), y.to(device)\n",
    "            \n",
    "            optimizer.zero_grad()\n",
    "            outputs = model(X)\n",
    "            loss = loss_fn(outputs, y)\n",
    "            loss.backward()\n",
    "            optimizer.step()\n",
    "            \n",
    "            train_loss += loss.item() * X.size(0)\n",
    "            train_correct += (outputs.argmax(1) == y).sum().item()\n",
    "            train_total += X.size(0)\n",
    "        \n",
    "        # Validation phase\n",
    "        model.eval()\n",
    "        val_loss, val_correct, val_total = 0.0, 0, 0\n",
    "        \n",
    "        with torch.inference_mode():\n",
    "            for X, y in val_dl:\n",
    "                X, y = X.to(device), y.to(device)\n",
    "                outputs = model(X)\n",
    "                val_loss += loss_fn(outputs, y).item() * X.size(0) \n",
    "                val_correct += (outputs.argmax(1) == y).sum().item()\n",
    "                val_total += X.size(0)\n",
    "        \n",
    "        train_loss = train_loss / train_total\n",
    "        train_acc = train_correct / train_total\n",
    "        val_loss = val_loss / val_total\n",
    "        val_acc = val_correct / val_total\n",
    "        \n",
    "        history['train_loss'].append(train_loss)\n",
    "        history['train_acc'].append(train_acc)\n",
    "        history['val_loss'].append(val_loss)\n",
    "        history['val_acc'].append(val_acc)\n",
    "        \n",
    "        print(f'Epoch {epoch+1}: Train Loss: {train_loss:.4f}, Train Acc: {train_acc:.4f}, Val Loss: {val_loss:.4f}, Val Acc: {val_acc:.4f}')\n",
    "\n",
    "        if val_loss < best_val_loss:\n",
    "            best_val_loss = val_loss\n",
    "            patience_counter = 0\n",
    "            best_model_weights = model.state_dict().copy()\n",
    "        else:\n",
    "            patience_counter += 1\n",
    "            if patience_counter >= patience:\n",
    "                print(f\"Early stopping at epoch {epoch+1}\")\n",
    "                model.load_state_dict(best_model_weights)\n",
    "                break\n",
    "    \n",
    "    return history"
   ]
  },
  {
   "cell_type": "code",
   "execution_count": 10,
   "id": "260e5a61",
   "metadata": {
    "_cell_guid": "3f738828-5d21-4fe9-a1fe-42cdd6c6d19c",
    "_uuid": "05d1f472-f630-49d2-8193-8a1929e759a2",
    "collapsed": false,
    "execution": {
     "iopub.execute_input": "2025-10-11T12:00:10.573362Z",
     "iopub.status.busy": "2025-10-11T12:00:10.572677Z",
     "iopub.status.idle": "2025-10-11T12:00:10.576742Z",
     "shell.execute_reply": "2025-10-11T12:00:10.575913Z"
    },
    "jupyter": {
     "outputs_hidden": false
    },
    "papermill": {
     "duration": 0.011669,
     "end_time": "2025-10-11T12:00:10.578076",
     "exception": false,
     "start_time": "2025-10-11T12:00:10.566407",
     "status": "completed"
    },
    "tags": []
   },
   "outputs": [],
   "source": [
    "# def test_models(models):\n",
    "#     train_dl = DataLoader(dataset, batch_size=4, shuffle=True)\n",
    "#     X_batch, y_batch = next(iter(train_dl))\n",
    "    \n",
    "#     print(f\"Input shape: {X_batch.shape}\")  # Should be (4, max_length)\n",
    "#     for model in models:\n",
    "#         model_name = model.__class__.__name__\n",
    "#         model.eval()\n",
    "#         with torch.inference_mode():\n",
    "#             output = model(X_batch)\n",
    "#             print(f\"Model Name: {model_name}\")\n",
    "#             print(f\"Output shape: {output.shape}\")  # Should be (4, 6)\n",
    "#             print(f\"Output: {output}\")\n",
    "    \n",
    "#     return models\n",
    "\n",
    "# # Run test\n",
    "# kwargs = (input_dim, hidden_dim, layer_dim, output_dim)\n",
    "# test_models = test_models([EmotGRU(*kwargs), EmotRNN(*kwargs), EmotLSTM(*kwargs)])"
   ]
  },
  {
   "cell_type": "code",
   "execution_count": 11,
   "id": "37ab9ef1",
   "metadata": {
    "execution": {
     "iopub.execute_input": "2025-10-11T12:00:10.590534Z",
     "iopub.status.busy": "2025-10-11T12:00:10.589838Z",
     "iopub.status.idle": "2025-10-11T12:00:10.594292Z",
     "shell.execute_reply": "2025-10-11T12:00:10.593708Z"
    },
    "papermill": {
     "duration": 0.011885,
     "end_time": "2025-10-11T12:00:10.595441",
     "exception": false,
     "start_time": "2025-10-11T12:00:10.583556",
     "status": "completed"
    },
    "tags": []
   },
   "outputs": [],
   "source": [
    "input_dim = len(vocab) + 1\n",
    "layer_dim = 64 # embedding size\n",
    "hidden_dim = 128 # size of network\n",
    "output_dim = 6 # dataset's class length\n",
    "epochs = 30\n",
    "loss_fn = torch.nn.CrossEntropyLoss()\n",
    "\n",
    "model_kwargs = {'input_dim': input_dim, \n",
    "                'hidden_dim': hidden_dim, \n",
    "                'layer_dim': layer_dim, \n",
    "                'output_dim': output_dim}"
   ]
  },
  {
   "cell_type": "markdown",
   "id": "f2d75279",
   "metadata": {
    "papermill": {
     "duration": 0.004691,
     "end_time": "2025-10-11T12:00:10.605300",
     "exception": false,
     "start_time": "2025-10-11T12:00:10.600609",
     "status": "completed"
    },
    "tags": []
   },
   "source": [
    "### -- METRICS"
   ]
  },
  {
   "cell_type": "code",
   "execution_count": 12,
   "id": "d746880a",
   "metadata": {
    "_cell_guid": "4ad9c5ef-cdd1-4b9f-9512-f38ff407a867",
    "_uuid": "47c6204c-3de9-4b0e-ba62-ecb71ac1a1c4",
    "collapsed": false,
    "execution": {
     "iopub.execute_input": "2025-10-11T12:00:10.615995Z",
     "iopub.status.busy": "2025-10-11T12:00:10.615480Z",
     "iopub.status.idle": "2025-10-11T12:00:10.620859Z",
     "shell.execute_reply": "2025-10-11T12:00:10.620284Z"
    },
    "jupyter": {
     "outputs_hidden": false
    },
    "papermill": {
     "duration": 0.012167,
     "end_time": "2025-10-11T12:00:10.622125",
     "exception": false,
     "start_time": "2025-10-11T12:00:10.609958",
     "status": "completed"
    },
    "tags": []
   },
   "outputs": [],
   "source": [
    "def compute_performance_metrics(model, dataloader, device):\n",
    "    model.eval()\n",
    "    all_preds = []\n",
    "    all_labels = []\n",
    "    with torch.inference_mode():\n",
    "        for X, y in dataloader:\n",
    "            X, y = X.to(device), y.to(device)\n",
    "            logits = model(X)\n",
    "            preds = logits.argmax(dim=1)\n",
    "            all_preds.extend(preds.cpu().numpy())\n",
    "            all_labels.extend(y.cpu().numpy())\n",
    "\n",
    "    accuracy = accuracy_score(all_labels, all_preds)\n",
    "    f1_macro = f1_score(all_labels, all_preds, average='macro')\n",
    "    f1_weighted = f1_score(all_labels, all_preds, average='weighted')\n",
    "    \n",
    "    return {\n",
    "        'accuracy': accuracy,\n",
    "        'f1_macro': f1_macro,\n",
    "        'f1_weighted': f1_weighted,\n",
    "        'predictions': all_preds,\n",
    "        'labels': all_labels\n",
    "    }"
   ]
  },
  {
   "cell_type": "code",
   "execution_count": 13,
   "id": "fbbe462b",
   "metadata": {
    "_cell_guid": "acb55233-0740-48f7-b1d0-c9418429b6e7",
    "_uuid": "ecc3ad90-10bd-4267-a116-67c42d04f0a4",
    "collapsed": false,
    "execution": {
     "iopub.execute_input": "2025-10-11T12:00:10.634540Z",
     "iopub.status.busy": "2025-10-11T12:00:10.634028Z",
     "iopub.status.idle": "2025-10-11T12:00:10.643488Z",
     "shell.execute_reply": "2025-10-11T12:00:10.642817Z"
    },
    "jupyter": {
     "outputs_hidden": false
    },
    "papermill": {
     "duration": 0.017059,
     "end_time": "2025-10-11T12:00:10.644754",
     "exception": false,
     "start_time": "2025-10-11T12:00:10.627695",
     "status": "completed"
    },
    "tags": []
   },
   "outputs": [],
   "source": [
    "def comprehensive_cross_validate(model_class, model_args, dataset, loss_fn, epochs, device, k=5):\n",
    "    \"\"\"Pass model class and arguments instead of model instance\"\"\"\n",
    "    labels = df['label'].values\n",
    "    skf = StratifiedKFold(n_splits=k, shuffle=True, random_state=123)\n",
    "    cv_results = {\n",
    "        'fold_train_acc': [], 'fold_val_acc': [],\n",
    "        'fold_train_f1_macro': [], 'fold_val_f1_macro': [],\n",
    "        'fold_train_f1_weighted': [], 'fold_val_f1_weighted': [],\n",
    "        'training_time': [], 'epochs_used': [],\n",
    "        'all_val_predictions': [], 'all_val_labels': []\n",
    "    }    \n",
    "    for fold, (train_idx, val_idx) in enumerate(skf.split(df, labels)):\n",
    "        print(f\"\\n=== Fold {fold+1}/{k} ===\")\n",
    "        print(f\"Train samples: {len(train_idx)}, Val samples: {len(val_idx)}\")\n",
    "        start_time = time.time()\n",
    "\n",
    "        train_dl = DataLoader(dataset, batch_size=32, sampler=SubsetRandomSampler(train_idx))\n",
    "        val_dl = DataLoader(dataset, batch_size=32, sampler=SubsetRandomSampler(val_idx))\n",
    "\n",
    "        model = model_class(**model_args).to(device)\n",
    "        optimizer = torch.optim.Adam(model.parameters(), lr=1e-3)\n",
    "\n",
    "        history = training_with_early_stopping(model, train_dl, val_dl, loss_fn, optimizer, epochs, device, patience=5)\n",
    "\n",
    "        fold_time = time.time() - start_time\n",
    "    \n",
    "        train_metrics = compute_performance_metrics(model, train_dl, device)\n",
    "        val_metrics = compute_performance_metrics(model, val_dl, device)\n",
    "        \n",
    "        # Store results\n",
    "        cv_results['fold_train_acc'].append(train_metrics['accuracy'])\n",
    "        cv_results['fold_val_acc'].append(val_metrics['accuracy'])\n",
    "        cv_results['fold_train_f1_macro'].append(train_metrics['f1_macro'])\n",
    "        cv_results['fold_val_f1_macro'].append(val_metrics['f1_macro'])\n",
    "        cv_results['fold_train_f1_weighted'].append(train_metrics['f1_weighted'])\n",
    "        cv_results['fold_val_f1_weighted'].append(val_metrics['f1_weighted'])\n",
    "        cv_results['training_time'].append(fold_time)\n",
    "        cv_results['epochs_used'].append(len(history['val_acc']))\n",
    "        cv_results['all_val_predictions'].extend(val_metrics['predictions'])\n",
    "        cv_results['all_val_labels'].extend(val_metrics['labels'])\n",
    "        \n",
    "        print(f\"Fold {fold+1} completed in {fold_time:.2f}s\")\n",
    "        print(f\"Train Acc: {train_metrics['accuracy']:.4f}, Val Acc: {val_metrics['accuracy']:.4f}\")\n",
    "        print(f\"Train F1-macro: {train_metrics['f1_macro']:.4f}, Val F1-macro: {val_metrics['f1_macro']:.4f}\")\n",
    "    \n",
    "    return cv_results"
   ]
  },
  {
   "cell_type": "code",
   "execution_count": 14,
   "id": "99be4199",
   "metadata": {
    "execution": {
     "iopub.execute_input": "2025-10-11T12:00:10.657539Z",
     "iopub.status.busy": "2025-10-11T12:00:10.657024Z",
     "iopub.status.idle": "2025-10-11T12:00:10.664428Z",
     "shell.execute_reply": "2025-10-11T12:00:10.663582Z"
    },
    "papermill": {
     "duration": 0.01533,
     "end_time": "2025-10-11T12:00:10.665780",
     "exception": false,
     "start_time": "2025-10-11T12:00:10.650450",
     "status": "completed"
    },
    "tags": []
   },
   "outputs": [],
   "source": [
    "def measure_efficiency(model, input_shape=(32,67), device=device):\n",
    "    model.eval()\n",
    "\n",
    "    total_params = sum(p.numel() for p in model.parameters())\n",
    "    trainable_params = sum(p.numel() for p in model.parameters() if p.requires_grad)\n",
    "\n",
    "    # inference time\n",
    "    dummy_input = torch.randint(0, 1000, input_shape).to(device)\n",
    "    # Warmup\n",
    "    for _ in range(10):\n",
    "        _ = model(dummy_input)\n",
    "    \n",
    "    # Measure inference time\n",
    "    starter = torch.cuda.Event(enable_timing=True)\n",
    "    ender = torch.cuda.Event(enable_timing=True)\n",
    "    times = []\n",
    "    \n",
    "    with torch.no_grad():\n",
    "        for _ in range(100):\n",
    "            starter.record()\n",
    "            _ = model(dummy_input)\n",
    "            ender.record()\n",
    "            torch.cuda.synchronize()\n",
    "            times.append(starter.elapsed_time(ender))\n",
    "    \n",
    "    # Memory usage (peak during inference)\n",
    "    if torch.cuda.is_available():\n",
    "        torch.cuda.reset_peak_memory_stats()\n",
    "        _ = model(dummy_input)\n",
    "        memory_used = torch.cuda.max_memory_allocated() / (1024 ** 2)  # Convert to MB\n",
    "    \n",
    "    return {\n",
    "        'total_parameters': total_params,\n",
    "        'trainable_parameters': trainable_params,\n",
    "        'inference_time_ms': np.mean(times),\n",
    "        'inference_std_ms': np.std(times),\n",
    "        'gpu_memory_mb': memory_used if torch.cuda.is_available() else 0,\n",
    "        'parameters_millions': total_params / 1e6\n",
    "    }"
   ]
  },
  {
   "cell_type": "code",
   "execution_count": 15,
   "id": "4800a00b",
   "metadata": {
    "execution": {
     "iopub.execute_input": "2025-10-11T12:00:10.678182Z",
     "iopub.status.busy": "2025-10-11T12:00:10.677895Z",
     "iopub.status.idle": "2025-10-11T12:01:00.701410Z",
     "shell.execute_reply": "2025-10-11T12:01:00.700476Z"
    },
    "papermill": {
     "duration": 50.031339,
     "end_time": "2025-10-11T12:01:00.702900",
     "exception": false,
     "start_time": "2025-10-11T12:00:10.671561",
     "status": "completed"
    },
    "tags": []
   },
   "outputs": [
    {
     "name": "stdout",
     "output_type": "stream",
     "text": [
      "\n",
      "==================================================\n",
      "TESTING RNN\n",
      "==================================================\n",
      "1. Performance Evaluation...\n",
      "\n",
      "=== Fold 1/5 ===\n",
      "Train samples: 1794, Val samples: 449\n",
      "Epoch 1: Train Loss: 1.8028, Train Acc: 0.1918, Val Loss: 1.7860, Val Acc: 0.2116\n",
      "Epoch 2: Train Loss: 1.7934, Train Acc: 0.1996, Val Loss: 1.7834, Val Acc: 0.2116\n",
      "Epoch 3: Train Loss: 1.7898, Train Acc: 0.2079, Val Loss: 1.7860, Val Acc: 0.1915\n",
      "Epoch 4: Train Loss: 1.7834, Train Acc: 0.2057, Val Loss: 1.7770, Val Acc: 0.2116\n",
      "Epoch 5: Train Loss: 1.7825, Train Acc: 0.2157, Val Loss: 1.7872, Val Acc: 0.1915\n",
      "Epoch 6: Train Loss: 1.7826, Train Acc: 0.2023, Val Loss: 1.7814, Val Acc: 0.1759\n",
      "Epoch 7: Train Loss: 1.7823, Train Acc: 0.2029, Val Loss: 1.7801, Val Acc: 0.2116\n",
      "Epoch 8: Train Loss: 1.7827, Train Acc: 0.2007, Val Loss: 1.7787, Val Acc: 0.2116\n",
      "Epoch 9: Train Loss: 1.7820, Train Acc: 0.1990, Val Loss: 1.7772, Val Acc: 0.2116\n",
      "Early stopping at epoch 9\n",
      "Fold 1 completed in 10.44s\n",
      "Train Acc: 0.2124, Val Acc: 0.2116\n",
      "Train F1-macro: 0.0593, Val F1-macro: 0.0582\n",
      "\n",
      "=== Fold 2/5 ===\n",
      "Train samples: 1794, Val samples: 449\n",
      "Epoch 1: Train Loss: 1.7978, Train Acc: 0.1996, Val Loss: 1.7909, Val Acc: 0.1915\n",
      "Epoch 2: Train Loss: 1.7955, Train Acc: 0.2090, Val Loss: 1.7928, Val Acc: 0.1915\n",
      "Epoch 3: Train Loss: 1.7934, Train Acc: 0.1957, Val Loss: 1.7789, Val Acc: 0.2116\n",
      "Epoch 4: Train Loss: 1.7883, Train Acc: 0.1984, Val Loss: 1.7803, Val Acc: 0.2116\n",
      "Epoch 5: Train Loss: 1.7819, Train Acc: 0.2118, Val Loss: 1.7764, Val Acc: 0.2116\n",
      "Epoch 6: Train Loss: 1.7843, Train Acc: 0.2029, Val Loss: 1.7799, Val Acc: 0.2116\n",
      "Epoch 7: Train Loss: 1.7820, Train Acc: 0.1918, Val Loss: 1.7774, Val Acc: 0.2138\n",
      "Epoch 8: Train Loss: 1.7836, Train Acc: 0.1934, Val Loss: 1.7807, Val Acc: 0.2116\n",
      "Epoch 9: Train Loss: 1.7965, Train Acc: 0.2007, Val Loss: 1.7802, Val Acc: 0.2116\n",
      "Epoch 10: Train Loss: 1.7810, Train Acc: 0.2001, Val Loss: 1.7874, Val Acc: 0.1915\n",
      "Early stopping at epoch 10\n",
      "Fold 2 completed in 2.20s\n",
      "Train Acc: 0.1918, Val Acc: 0.1915\n",
      "Train F1-macro: 0.0546, Val F1-macro: 0.0536\n",
      "\n",
      "=== Fold 3/5 ===\n",
      "Train samples: 1794, Val samples: 449\n",
      "Epoch 1: Train Loss: 1.8047, Train Acc: 0.2035, Val Loss: 1.7793, Val Acc: 0.2116\n",
      "Epoch 2: Train Loss: 1.7894, Train Acc: 0.1784, Val Loss: 1.7940, Val Acc: 0.2116\n",
      "Epoch 3: Train Loss: 1.7854, Train Acc: 0.2029, Val Loss: 1.7805, Val Acc: 0.2116\n",
      "Epoch 4: Train Loss: 1.7831, Train Acc: 0.2174, Val Loss: 1.7842, Val Acc: 0.1915\n",
      "Epoch 5: Train Loss: 1.7857, Train Acc: 0.2118, Val Loss: 1.7922, Val Acc: 0.1336\n",
      "Epoch 6: Train Loss: 1.7863, Train Acc: 0.1984, Val Loss: 1.7915, Val Acc: 0.1915\n",
      "Early stopping at epoch 6\n",
      "Fold 3 completed in 1.30s\n",
      "Train Acc: 0.1918, Val Acc: 0.1915\n",
      "Train F1-macro: 0.0546, Val F1-macro: 0.0536\n",
      "\n",
      "=== Fold 4/5 ===\n",
      "Train samples: 1795, Val samples: 448\n",
      "Epoch 1: Train Loss: 1.7992, Train Acc: 0.1978, Val Loss: 1.8211, Val Acc: 0.1920\n",
      "Epoch 2: Train Loss: 1.7999, Train Acc: 0.2017, Val Loss: 1.7991, Val Acc: 0.2121\n",
      "Epoch 3: Train Loss: 1.7914, Train Acc: 0.2000, Val Loss: 1.7759, Val Acc: 0.2121\n",
      "Epoch 4: Train Loss: 1.7857, Train Acc: 0.2011, Val Loss: 1.7867, Val Acc: 0.1763\n",
      "Epoch 5: Train Loss: 1.7865, Train Acc: 0.2022, Val Loss: 1.7845, Val Acc: 0.2121\n",
      "Epoch 6: Train Loss: 1.7916, Train Acc: 0.2100, Val Loss: 1.7795, Val Acc: 0.2121\n",
      "Epoch 7: Train Loss: 1.7857, Train Acc: 0.2006, Val Loss: 1.7757, Val Acc: 0.2121\n",
      "Epoch 8: Train Loss: 1.7824, Train Acc: 0.2028, Val Loss: 1.7796, Val Acc: 0.2121\n",
      "Epoch 9: Train Loss: 1.7842, Train Acc: 0.2028, Val Loss: 1.7775, Val Acc: 0.2121\n",
      "Epoch 10: Train Loss: 1.7825, Train Acc: 0.2123, Val Loss: 1.7841, Val Acc: 0.1920\n",
      "Epoch 11: Train Loss: 1.7810, Train Acc: 0.2039, Val Loss: 1.7833, Val Acc: 0.1920\n",
      "Epoch 12: Train Loss: 1.7798, Train Acc: 0.2139, Val Loss: 1.7767, Val Acc: 0.2121\n",
      "Early stopping at epoch 12\n",
      "Fold 4 completed in 2.59s\n",
      "Train Acc: 0.2123, Val Acc: 0.2121\n",
      "Train F1-macro: 0.0593, Val F1-macro: 0.0583\n",
      "\n",
      "=== Fold 5/5 ===\n",
      "Train samples: 1795, Val samples: 448\n",
      "Epoch 1: Train Loss: 1.7982, Train Acc: 0.1961, Val Loss: 1.7889, Val Acc: 0.1920\n",
      "Epoch 2: Train Loss: 1.7951, Train Acc: 0.1944, Val Loss: 1.7810, Val Acc: 0.2143\n",
      "Epoch 3: Train Loss: 1.7905, Train Acc: 0.1994, Val Loss: 1.7781, Val Acc: 0.2143\n",
      "Epoch 4: Train Loss: 1.7845, Train Acc: 0.2061, Val Loss: 1.7788, Val Acc: 0.2143\n",
      "Epoch 5: Train Loss: 1.7825, Train Acc: 0.2117, Val Loss: 1.7774, Val Acc: 0.2143\n",
      "Epoch 6: Train Loss: 1.7807, Train Acc: 0.1978, Val Loss: 1.7957, Val Acc: 0.1920\n",
      "Epoch 7: Train Loss: 1.7846, Train Acc: 0.2000, Val Loss: 1.7784, Val Acc: 0.2143\n",
      "Epoch 8: Train Loss: 1.7855, Train Acc: 0.1905, Val Loss: 1.7803, Val Acc: 0.2143\n",
      "Epoch 9: Train Loss: 1.7804, Train Acc: 0.1905, Val Loss: 1.7782, Val Acc: 0.2143\n",
      "Epoch 10: Train Loss: 1.7841, Train Acc: 0.2067, Val Loss: 1.7778, Val Acc: 0.2143\n",
      "Early stopping at epoch 10\n",
      "Fold 5 completed in 2.20s\n",
      "Train Acc: 0.2117, Val Acc: 0.2143\n",
      "Train F1-macro: 0.0582, Val F1-macro: 0.0626\n",
      "2. Efficiency Evaluation...\n",
      "\n",
      "==================================================\n",
      "TESTING LSTM\n",
      "==================================================\n",
      "1. Performance Evaluation...\n",
      "\n",
      "=== Fold 1/5 ===\n",
      "Train samples: 1794, Val samples: 449\n",
      "Epoch 1: Train Loss: 1.7857, Train Acc: 0.2051, Val Loss: 1.7819, Val Acc: 0.1915\n",
      "Epoch 2: Train Loss: 1.7800, Train Acc: 0.2096, Val Loss: 1.7776, Val Acc: 0.2116\n",
      "Epoch 3: Train Loss: 1.7811, Train Acc: 0.2118, Val Loss: 1.7765, Val Acc: 0.2116\n",
      "Epoch 4: Train Loss: 1.7788, Train Acc: 0.2068, Val Loss: 1.7766, Val Acc: 0.2116\n",
      "Epoch 5: Train Loss: 1.7785, Train Acc: 0.2051, Val Loss: 1.7765, Val Acc: 0.2116\n",
      "Epoch 6: Train Loss: 1.7796, Train Acc: 0.2012, Val Loss: 1.7763, Val Acc: 0.2116\n",
      "Epoch 7: Train Loss: 1.7790, Train Acc: 0.2124, Val Loss: 1.7763, Val Acc: 0.2116\n",
      "Epoch 8: Train Loss: 1.7773, Train Acc: 0.2124, Val Loss: 1.7761, Val Acc: 0.2116\n",
      "Epoch 9: Train Loss: 1.7768, Train Acc: 0.2124, Val Loss: 1.7759, Val Acc: 0.2116\n",
      "Epoch 10: Train Loss: 1.7774, Train Acc: 0.2124, Val Loss: 1.7759, Val Acc: 0.2116\n",
      "Epoch 11: Train Loss: 1.7768, Train Acc: 0.2124, Val Loss: 1.7758, Val Acc: 0.2116\n",
      "Epoch 12: Train Loss: 1.7765, Train Acc: 0.2124, Val Loss: 1.7758, Val Acc: 0.2116\n",
      "Epoch 13: Train Loss: 1.7769, Train Acc: 0.2124, Val Loss: 1.7760, Val Acc: 0.2116\n",
      "Epoch 14: Train Loss: 1.7769, Train Acc: 0.2124, Val Loss: 1.7758, Val Acc: 0.2116\n",
      "Epoch 15: Train Loss: 1.7766, Train Acc: 0.2124, Val Loss: 1.7760, Val Acc: 0.2116\n",
      "Epoch 16: Train Loss: 1.7765, Train Acc: 0.2124, Val Loss: 1.7758, Val Acc: 0.2116\n",
      "Epoch 17: Train Loss: 1.7768, Train Acc: 0.2124, Val Loss: 1.7758, Val Acc: 0.2116\n",
      "Early stopping at epoch 17\n",
      "Fold 1 completed in 3.92s\n",
      "Train Acc: 0.2124, Val Acc: 0.2116\n",
      "Train F1-macro: 0.0593, Val F1-macro: 0.0582\n",
      "\n",
      "=== Fold 2/5 ===\n",
      "Train samples: 1794, Val samples: 449\n",
      "Epoch 1: Train Loss: 1.7862, Train Acc: 0.1862, Val Loss: 1.7795, Val Acc: 0.2116\n",
      "Epoch 2: Train Loss: 1.7807, Train Acc: 0.2096, Val Loss: 1.7791, Val Acc: 0.1759\n",
      "Epoch 3: Train Loss: 1.7796, Train Acc: 0.2001, Val Loss: 1.7765, Val Acc: 0.2116\n",
      "Epoch 4: Train Loss: 1.7792, Train Acc: 0.2040, Val Loss: 1.7758, Val Acc: 0.2116\n",
      "Epoch 5: Train Loss: 1.7783, Train Acc: 0.2124, Val Loss: 1.7761, Val Acc: 0.2116\n",
      "Epoch 6: Train Loss: 1.7774, Train Acc: 0.1984, Val Loss: 1.7770, Val Acc: 0.2116\n",
      "Epoch 7: Train Loss: 1.7782, Train Acc: 0.2124, Val Loss: 1.7759, Val Acc: 0.2116\n",
      "Epoch 8: Train Loss: 1.7774, Train Acc: 0.2124, Val Loss: 1.7760, Val Acc: 0.2116\n",
      "Epoch 9: Train Loss: 1.7768, Train Acc: 0.2124, Val Loss: 1.7760, Val Acc: 0.2116\n",
      "Early stopping at epoch 9\n",
      "Fold 2 completed in 2.01s\n",
      "Train Acc: 0.2124, Val Acc: 0.2116\n",
      "Train F1-macro: 0.0593, Val F1-macro: 0.0582\n",
      "\n",
      "=== Fold 3/5 ===\n",
      "Train samples: 1794, Val samples: 449\n",
      "Epoch 1: Train Loss: 1.7859, Train Acc: 0.1957, Val Loss: 1.7800, Val Acc: 0.1915\n",
      "Epoch 2: Train Loss: 1.7791, Train Acc: 0.1996, Val Loss: 1.7775, Val Acc: 0.2116\n",
      "Epoch 3: Train Loss: 1.7795, Train Acc: 0.2124, Val Loss: 1.7775, Val Acc: 0.2116\n",
      "Epoch 4: Train Loss: 1.7811, Train Acc: 0.2007, Val Loss: 1.7774, Val Acc: 0.1915\n",
      "Epoch 5: Train Loss: 1.7791, Train Acc: 0.1984, Val Loss: 1.7760, Val Acc: 0.2116\n",
      "Epoch 6: Train Loss: 1.7778, Train Acc: 0.2124, Val Loss: 1.7765, Val Acc: 0.2116\n",
      "Epoch 7: Train Loss: 1.7794, Train Acc: 0.2124, Val Loss: 1.7762, Val Acc: 0.2116\n",
      "Epoch 8: Train Loss: 1.7769, Train Acc: 0.2124, Val Loss: 1.7764, Val Acc: 0.2116\n",
      "Epoch 9: Train Loss: 1.7774, Train Acc: 0.2124, Val Loss: 1.7761, Val Acc: 0.2116\n",
      "Epoch 10: Train Loss: 1.7763, Train Acc: 0.2124, Val Loss: 1.7762, Val Acc: 0.2116\n",
      "Early stopping at epoch 10\n",
      "Fold 3 completed in 2.22s\n",
      "Train Acc: 0.2124, Val Acc: 0.2116\n",
      "Train F1-macro: 0.0593, Val F1-macro: 0.0582\n",
      "\n",
      "=== Fold 4/5 ===\n",
      "Train samples: 1795, Val samples: 448\n",
      "Epoch 1: Train Loss: 1.7882, Train Acc: 0.2050, Val Loss: 1.7785, Val Acc: 0.1920\n",
      "Epoch 2: Train Loss: 1.7810, Train Acc: 0.2100, Val Loss: 1.7759, Val Acc: 0.2121\n",
      "Epoch 3: Train Loss: 1.7801, Train Acc: 0.2045, Val Loss: 1.7768, Val Acc: 0.2121\n",
      "Epoch 4: Train Loss: 1.7795, Train Acc: 0.2123, Val Loss: 1.7757, Val Acc: 0.2121\n",
      "Epoch 5: Train Loss: 1.7791, Train Acc: 0.1955, Val Loss: 1.7757, Val Acc: 0.2121\n",
      "Epoch 6: Train Loss: 1.7772, Train Acc: 0.2123, Val Loss: 1.7753, Val Acc: 0.2121\n",
      "Epoch 7: Train Loss: 1.7780, Train Acc: 0.2011, Val Loss: 1.7756, Val Acc: 0.2121\n",
      "Epoch 8: Train Loss: 1.7765, Train Acc: 0.2123, Val Loss: 1.7754, Val Acc: 0.2121\n",
      "Epoch 9: Train Loss: 1.7774, Train Acc: 0.2123, Val Loss: 1.7757, Val Acc: 0.2121\n",
      "Epoch 10: Train Loss: 1.7768, Train Acc: 0.2123, Val Loss: 1.7754, Val Acc: 0.2121\n",
      "Epoch 11: Train Loss: 1.7761, Train Acc: 0.2123, Val Loss: 1.7753, Val Acc: 0.2121\n",
      "Early stopping at epoch 11\n",
      "Fold 4 completed in 2.44s\n",
      "Train Acc: 0.2123, Val Acc: 0.2121\n",
      "Train F1-macro: 0.0593, Val F1-macro: 0.0583\n",
      "\n",
      "=== Fold 5/5 ===\n",
      "Train samples: 1795, Val samples: 448\n",
      "Epoch 1: Train Loss: 1.7848, Train Acc: 0.2106, Val Loss: 1.7790, Val Acc: 0.2121\n",
      "Epoch 2: Train Loss: 1.7803, Train Acc: 0.2000, Val Loss: 1.7788, Val Acc: 0.2121\n",
      "Epoch 3: Train Loss: 1.7793, Train Acc: 0.2117, Val Loss: 1.7770, Val Acc: 0.2121\n",
      "Epoch 4: Train Loss: 1.7806, Train Acc: 0.1950, Val Loss: 1.7766, Val Acc: 0.2121\n",
      "Epoch 5: Train Loss: 1.7794, Train Acc: 0.2117, Val Loss: 1.7771, Val Acc: 0.2121\n",
      "Epoch 6: Train Loss: 1.7774, Train Acc: 0.2117, Val Loss: 1.7765, Val Acc: 0.2121\n",
      "Epoch 7: Train Loss: 1.7784, Train Acc: 0.1989, Val Loss: 1.7766, Val Acc: 0.2121\n",
      "Epoch 8: Train Loss: 1.7776, Train Acc: 0.2117, Val Loss: 1.7763, Val Acc: 0.2121\n",
      "Epoch 9: Train Loss: 1.7777, Train Acc: 0.2117, Val Loss: 1.7762, Val Acc: 0.2121\n",
      "Epoch 10: Train Loss: 1.7772, Train Acc: 0.2117, Val Loss: 1.7763, Val Acc: 0.2121\n",
      "Epoch 11: Train Loss: 1.7781, Train Acc: 0.2117, Val Loss: 1.7762, Val Acc: 0.2121\n",
      "Epoch 12: Train Loss: 1.7772, Train Acc: 0.2117, Val Loss: 1.7763, Val Acc: 0.2121\n",
      "Epoch 13: Train Loss: 1.7772, Train Acc: 0.2117, Val Loss: 1.7763, Val Acc: 0.2121\n",
      "Epoch 14: Train Loss: 1.7765, Train Acc: 0.2117, Val Loss: 1.7762, Val Acc: 0.2121\n",
      "Early stopping at epoch 14\n",
      "Fold 5 completed in 3.12s\n",
      "Train Acc: 0.2117, Val Acc: 0.2121\n",
      "Train F1-macro: 0.0582, Val F1-macro: 0.0583\n",
      "2. Efficiency Evaluation...\n",
      "\n",
      "==================================================\n",
      "TESTING GRU\n",
      "==================================================\n",
      "1. Performance Evaluation...\n",
      "\n",
      "=== Fold 1/5 ===\n",
      "Train samples: 1794, Val samples: 449\n",
      "Epoch 1: Train Loss: 1.7969, Train Acc: 0.2012, Val Loss: 1.7941, Val Acc: 0.1759\n",
      "Epoch 2: Train Loss: 1.7860, Train Acc: 0.2113, Val Loss: 1.7800, Val Acc: 0.2116\n",
      "Epoch 3: Train Loss: 1.7869, Train Acc: 0.1973, Val Loss: 1.7822, Val Acc: 0.2116\n",
      "Epoch 4: Train Loss: 1.7583, Train Acc: 0.2341, Val Loss: 1.7382, Val Acc: 0.2539\n",
      "Epoch 5: Train Loss: 1.5365, Train Acc: 0.3478, Val Loss: 1.6529, Val Acc: 0.3430\n",
      "Epoch 6: Train Loss: 1.3449, Train Acc: 0.4326, Val Loss: 1.6042, Val Acc: 0.3719\n",
      "Epoch 7: Train Loss: 1.0678, Train Acc: 0.5418, Val Loss: 1.5529, Val Acc: 0.4187\n",
      "Epoch 8: Train Loss: 0.8832, Train Acc: 0.6182, Val Loss: 1.6412, Val Acc: 0.4477\n",
      "Epoch 9: Train Loss: 0.6919, Train Acc: 0.7324, Val Loss: 1.4878, Val Acc: 0.5345\n",
      "Epoch 10: Train Loss: 0.5094, Train Acc: 0.8200, Val Loss: 1.5025, Val Acc: 0.5434\n",
      "Epoch 11: Train Loss: 0.3731, Train Acc: 0.8768, Val Loss: 1.6880, Val Acc: 0.5724\n",
      "Epoch 12: Train Loss: 0.2934, Train Acc: 0.9075, Val Loss: 1.5571, Val Acc: 0.5969\n",
      "Epoch 13: Train Loss: 0.1873, Train Acc: 0.9498, Val Loss: 1.6581, Val Acc: 0.6258\n",
      "Epoch 14: Train Loss: 0.1850, Train Acc: 0.9448, Val Loss: 1.5569, Val Acc: 0.6125\n",
      "Early stopping at epoch 14\n",
      "Fold 1 completed in 3.04s\n",
      "Train Acc: 0.9710, Val Acc: 0.6125\n",
      "Train F1-macro: 0.9688, Val F1-macro: 0.5953\n",
      "\n",
      "=== Fold 2/5 ===\n",
      "Train samples: 1794, Val samples: 449\n",
      "Epoch 1: Train Loss: 1.8024, Train Acc: 0.1812, Val Loss: 1.8013, Val Acc: 0.2116\n",
      "Epoch 2: Train Loss: 1.8068, Train Acc: 0.1968, Val Loss: 1.7778, Val Acc: 0.2071\n",
      "Epoch 3: Train Loss: 1.7774, Train Acc: 0.2196, Val Loss: 1.7668, Val Acc: 0.2116\n",
      "Epoch 4: Train Loss: 1.6718, Train Acc: 0.3183, Val Loss: 1.4814, Val Acc: 0.3630\n",
      "Epoch 5: Train Loss: 1.4524, Train Acc: 0.4013, Val Loss: 1.4426, Val Acc: 0.3808\n",
      "Epoch 6: Train Loss: 1.3192, Train Acc: 0.4643, Val Loss: 1.3975, Val Acc: 0.4477\n",
      "Epoch 7: Train Loss: 1.1573, Train Acc: 0.5307, Val Loss: 1.3645, Val Acc: 0.4722\n",
      "Epoch 8: Train Loss: 0.9846, Train Acc: 0.6265, Val Loss: 1.3417, Val Acc: 0.5301\n",
      "Epoch 9: Train Loss: 0.8352, Train Acc: 0.6834, Val Loss: 1.2097, Val Acc: 0.5635\n",
      "Epoch 10: Train Loss: 0.6486, Train Acc: 0.7804, Val Loss: 1.2689, Val Acc: 0.5791\n",
      "Epoch 11: Train Loss: 0.5380, Train Acc: 0.8200, Val Loss: 1.5076, Val Acc: 0.5702\n",
      "Epoch 12: Train Loss: 0.4769, Train Acc: 0.8512, Val Loss: 1.2705, Val Acc: 0.6169\n",
      "Epoch 13: Train Loss: 0.3535, Train Acc: 0.8891, Val Loss: 1.2740, Val Acc: 0.6347\n",
      "Epoch 14: Train Loss: 0.3221, Train Acc: 0.9019, Val Loss: 1.2847, Val Acc: 0.6236\n",
      "Early stopping at epoch 14\n",
      "Fold 2 completed in 3.05s\n",
      "Train Acc: 0.9398, Val Acc: 0.6236\n",
      "Train F1-macro: 0.9393, Val F1-macro: 0.6124\n",
      "\n",
      "=== Fold 3/5 ===\n",
      "Train samples: 1794, Val samples: 449\n",
      "Epoch 1: Train Loss: 1.7941, Train Acc: 0.2001, Val Loss: 1.7947, Val Acc: 0.2116\n",
      "Epoch 2: Train Loss: 1.7863, Train Acc: 0.1856, Val Loss: 1.7850, Val Acc: 0.2116\n",
      "Epoch 3: Train Loss: 1.7888, Train Acc: 0.2113, Val Loss: 1.7931, Val Acc: 0.1915\n",
      "Epoch 4: Train Loss: 1.7776, Train Acc: 0.2313, Val Loss: 1.7659, Val Acc: 0.2494\n",
      "Epoch 5: Train Loss: 1.6558, Train Acc: 0.3071, Val Loss: 1.6774, Val Acc: 0.3341\n",
      "Epoch 6: Train Loss: 1.4227, Train Acc: 0.4086, Val Loss: 1.6121, Val Acc: 0.3964\n",
      "Epoch 7: Train Loss: 1.1843, Train Acc: 0.5173, Val Loss: 1.4692, Val Acc: 0.4566\n",
      "Epoch 8: Train Loss: 0.9785, Train Acc: 0.6042, Val Loss: 1.4687, Val Acc: 0.4900\n",
      "Epoch 9: Train Loss: 0.8196, Train Acc: 0.6477, Val Loss: 1.6393, Val Acc: 0.4722\n",
      "Epoch 10: Train Loss: 0.8307, Train Acc: 0.6472, Val Loss: 1.4488, Val Acc: 0.4967\n",
      "Epoch 11: Train Loss: 0.6873, Train Acc: 0.6934, Val Loss: 1.4812, Val Acc: 0.5100\n",
      "Epoch 12: Train Loss: 0.6076, Train Acc: 0.7252, Val Loss: 1.5326, Val Acc: 0.5390\n",
      "Epoch 13: Train Loss: 0.5189, Train Acc: 0.8055, Val Loss: 1.3990, Val Acc: 0.5902\n",
      "Epoch 14: Train Loss: 0.4203, Train Acc: 0.8540, Val Loss: 1.4592, Val Acc: 0.6169\n",
      "Epoch 15: Train Loss: 0.3693, Train Acc: 0.8751, Val Loss: 1.6882, Val Acc: 0.5880\n",
      "Epoch 16: Train Loss: 0.2963, Train Acc: 0.9052, Val Loss: 1.4941, Val Acc: 0.6058\n",
      "Epoch 17: Train Loss: 0.2124, Train Acc: 0.9387, Val Loss: 1.5799, Val Acc: 0.6481\n",
      "Epoch 18: Train Loss: 0.1527, Train Acc: 0.9565, Val Loss: 1.7600, Val Acc: 0.6147\n",
      "Early stopping at epoch 18\n",
      "Fold 3 completed in 4.01s\n",
      "Train Acc: 0.9052, Val Acc: 0.6147\n",
      "Train F1-macro: 0.9065, Val F1-macro: 0.6098\n",
      "\n",
      "=== Fold 4/5 ===\n",
      "Train samples: 1795, Val samples: 448\n",
      "Epoch 1: Train Loss: 1.7964, Train Acc: 0.1933, Val Loss: 1.7895, Val Acc: 0.1585\n",
      "Epoch 2: Train Loss: 1.7865, Train Acc: 0.1989, Val Loss: 1.7803, Val Acc: 0.2121\n",
      "Epoch 3: Train Loss: 1.7802, Train Acc: 0.2145, Val Loss: 1.7752, Val Acc: 0.2121\n",
      "Epoch 4: Train Loss: 1.6839, Train Acc: 0.2735, Val Loss: 1.5681, Val Acc: 0.3638\n",
      "Epoch 5: Train Loss: 1.3440, Train Acc: 0.4379, Val Loss: 1.3804, Val Acc: 0.4509\n",
      "Epoch 6: Train Loss: 1.0535, Train Acc: 0.5939, Val Loss: 1.1931, Val Acc: 0.5469\n",
      "Epoch 7: Train Loss: 0.7821, Train Acc: 0.7070, Val Loss: 1.1465, Val Acc: 0.6094\n",
      "Epoch 8: Train Loss: 0.5638, Train Acc: 0.8089, Val Loss: 1.0916, Val Acc: 0.6562\n",
      "Epoch 9: Train Loss: 0.4047, Train Acc: 0.8669, Val Loss: 1.1844, Val Acc: 0.6317\n",
      "Epoch 10: Train Loss: 0.2554, Train Acc: 0.9220, Val Loss: 1.3324, Val Acc: 0.6406\n",
      "Epoch 11: Train Loss: 0.2608, Train Acc: 0.9181, Val Loss: 1.1366, Val Acc: 0.6741\n",
      "Epoch 12: Train Loss: 0.1487, Train Acc: 0.9627, Val Loss: 1.2829, Val Acc: 0.6719\n",
      "Epoch 13: Train Loss: 0.1083, Train Acc: 0.9699, Val Loss: 1.2736, Val Acc: 0.6674\n",
      "Early stopping at epoch 13\n",
      "Fold 4 completed in 2.77s\n",
      "Train Acc: 0.9777, Val Acc: 0.6674\n",
      "Train F1-macro: 0.9779, Val F1-macro: 0.6731\n",
      "\n",
      "=== Fold 5/5 ===\n",
      "Train samples: 1795, Val samples: 448\n",
      "Epoch 1: Train Loss: 1.7972, Train Acc: 0.1833, Val Loss: 1.7829, Val Acc: 0.2143\n",
      "Epoch 2: Train Loss: 1.7873, Train Acc: 0.1978, Val Loss: 1.7821, Val Acc: 0.2143\n",
      "Epoch 3: Train Loss: 1.7693, Train Acc: 0.2318, Val Loss: 1.7643, Val Acc: 0.2902\n",
      "Epoch 4: Train Loss: 1.6275, Train Acc: 0.3538, Val Loss: 1.5172, Val Acc: 0.4263\n",
      "Epoch 5: Train Loss: 1.2720, Train Acc: 0.5242, Val Loss: 1.2831, Val Acc: 0.5000\n",
      "Epoch 6: Train Loss: 0.9389, Train Acc: 0.6591, Val Loss: 1.1691, Val Acc: 0.5670\n",
      "Epoch 7: Train Loss: 0.6745, Train Acc: 0.7760, Val Loss: 1.1153, Val Acc: 0.6116\n",
      "Epoch 8: Train Loss: 0.5076, Train Acc: 0.8273, Val Loss: 1.1743, Val Acc: 0.6116\n",
      "Epoch 9: Train Loss: 0.3539, Train Acc: 0.8964, Val Loss: 1.2755, Val Acc: 0.6272\n",
      "Epoch 10: Train Loss: 0.3107, Train Acc: 0.9064, Val Loss: 1.2216, Val Acc: 0.6629\n",
      "Epoch 11: Train Loss: 0.2650, Train Acc: 0.9248, Val Loss: 1.2972, Val Acc: 0.6562\n",
      "Epoch 12: Train Loss: 0.1502, Train Acc: 0.9610, Val Loss: 1.4008, Val Acc: 0.6451\n",
      "Early stopping at epoch 12\n",
      "Fold 5 completed in 2.62s\n",
      "Train Acc: 0.9760, Val Acc: 0.6451\n",
      "Train F1-macro: 0.9761, Val F1-macro: 0.6394\n",
      "2. Efficiency Evaluation...\n"
     ]
    }
   ],
   "source": [
    "def run_complete_ablation_study():\n",
    "    \"\"\"Run comprehensive ablation study for all models\"\"\"\n",
    "    \n",
    "    # Model configurations\n",
    "    model_configs = {\n",
    "        'RNN': {'class': EmotRNN, 'args': {'input_dim': input_dim, 'hidden_dim': hidden_dim, 'layer_dim': layer_dim, 'output_dim': output_dim}},\n",
    "        'LSTM': {'class': EmotLSTM, 'args': {'input_dim': input_dim, 'hidden_dim': hidden_dim, 'layer_dim': layer_dim, 'output_dim': output_dim}},\n",
    "        'GRU': {'class': EmotGRU, 'args': {'input_dim': input_dim, 'hidden_dim': hidden_dim, 'layer_dim': layer_dim, 'output_dim': output_dim}},\n",
    "        # Add more variants here for ablation\n",
    "    }\n",
    "    \n",
    "    results = {}\n",
    "    \n",
    "    for model_name, config in model_configs.items():\n",
    "        print(f\"\\n{'='*50}\")\n",
    "        print(f\"TESTING {model_name}\")\n",
    "        print(f\"{'='*50}\")\n",
    "        \n",
    "        # 1. Performance Evaluation\n",
    "        print(\"1. Performance Evaluation...\")\n",
    "        cv_results = comprehensive_cross_validate(\n",
    "            config['class'], config['args'], dataset, loss_fn, epochs, device=device, k=5\n",
    "        )\n",
    "        \n",
    "        # 2. Efficiency Evaluation\n",
    "        print(\"2. Efficiency Evaluation...\")\n",
    "        model_instance = config['class'](**config['args']).to(device)\n",
    "        efficiency = measure_efficiency(model_instance, device=device)\n",
    "        \n",
    "        \n",
    "        # Store all results\n",
    "        results[model_name] = {\n",
    "            'performance': cv_results,\n",
    "            'efficiency': efficiency,\n",
    "            'model': model_instance\n",
    "        }\n",
    "    \n",
    "    return results\n",
    "\n",
    "# Run the complete study\n",
    "ablation_results = run_complete_ablation_study()"
   ]
  },
  {
   "cell_type": "code",
   "execution_count": 16,
   "id": "0be0af83",
   "metadata": {
    "execution": {
     "iopub.execute_input": "2025-10-11T12:01:00.732833Z",
     "iopub.status.busy": "2025-10-11T12:01:00.732407Z",
     "iopub.status.idle": "2025-10-11T12:01:00.746598Z",
     "shell.execute_reply": "2025-10-11T12:01:00.745709Z"
    },
    "papermill": {
     "duration": 0.031076,
     "end_time": "2025-10-11T12:01:00.748324",
     "exception": false,
     "start_time": "2025-10-11T12:01:00.717248",
     "status": "completed"
    },
    "tags": []
   },
   "outputs": [
    {
     "name": "stdout",
     "output_type": "stream",
     "text": [
      "📊 PERFORMANCE COMPARISON\n",
      "  Model   Val Accuracy   Val F1-Macro Val F1-Weighted Training Time (s)  \\\n",
      "0   RNN  0.204 ± 0.010  0.057 ± 0.003   0.070 ± 0.007               3.7   \n",
      "1  LSTM  0.212 ± 0.000  0.058 ± 0.000   0.074 ± 0.000               2.7   \n",
      "2   GRU  0.633 ± 0.021  0.626 ± 0.028   0.630 ± 0.024               3.1   \n",
      "\n",
      "  Epochs to Converge  \n",
      "0                9.4  \n",
      "1               12.2  \n",
      "2               14.2  \n",
      "\n",
      "⚡ EFFICIENCY COMPARISON\n",
      "  Model Params (M) Inference Time (ms) GPU Memory (MB)\n",
      "0   RNN       0.59         0.44 ± 0.02            36.2\n",
      "1  LSTM       0.67         0.63 ± 0.04            55.8\n",
      "2   GRU       0.64         0.58 ± 0.03            51.8\n"
     ]
    }
   ],
   "source": [
    "def generate_ablation_report(ablation_results):\n",
    "    \"\"\"Generate comprehensive ablation study report\"\"\"\n",
    "    \n",
    "    performance_table = []\n",
    "    efficiency_table = []\n",
    "    \n",
    "    for model_name, results in ablation_results.items():\n",
    "        perf = results['performance']\n",
    "        eff = results['efficiency']\n",
    "        \n",
    "        # Performance table\n",
    "        performance_table.append({\n",
    "            'Model': model_name,\n",
    "            'Val Accuracy': f\"{np.mean(perf['fold_val_acc']):.3f} ± {np.std(perf['fold_val_acc']):.3f}\",\n",
    "            'Val F1-Macro': f\"{np.mean(perf['fold_val_f1_macro']):.3f} ± {np.std(perf['fold_val_f1_macro']):.3f}\",\n",
    "            'Val F1-Weighted': f\"{np.mean(perf['fold_val_f1_weighted']):.3f} ± {np.std(perf['fold_val_f1_weighted']):.3f}\",\n",
    "            'Training Time (s)': f\"{np.mean(perf['training_time']):.1f}\",\n",
    "            'Epochs to Converge': f\"{np.mean(perf['epochs_used']):.1f}\"\n",
    "        })\n",
    "        \n",
    "        # Efficiency table\n",
    "        efficiency_table.append({\n",
    "            'Model': model_name,\n",
    "            'Params (M)': f\"{eff['parameters_millions']:.2f}\",\n",
    "            'Inference Time (ms)': f\"{eff['inference_time_ms']:.2f} ± {eff['inference_std_ms']:.2f}\",\n",
    "            'GPU Memory (MB)': f\"{eff['gpu_memory_mb']:.1f}\"\n",
    "        })\n",
    "\n",
    "    print(\"📊 PERFORMANCE COMPARISON\")\n",
    "    print(pd.DataFrame(performance_table))\n",
    "    \n",
    "    print(\"\\n⚡ EFFICIENCY COMPARISON\")  \n",
    "    print(pd.DataFrame(efficiency_table))\n",
    "    \n",
    "    return {\n",
    "        'performance': pd.DataFrame(performance_table),\n",
    "        'efficiency': pd.DataFrame(efficiency_table)\n",
    "    }\n",
    "\n",
    "# Generate final report\n",
    "final_report = generate_ablation_report(ablation_results)"
   ]
  },
  {
   "cell_type": "code",
   "execution_count": 17,
   "id": "160f40a4",
   "metadata": {
    "_cell_guid": "2de53cb2-c06f-41aa-8fe0-91b868c14a02",
    "_uuid": "562e9b4e-7a55-419e-8e76-da477ddc94eb",
    "collapsed": false,
    "execution": {
     "iopub.execute_input": "2025-10-11T12:01:00.777705Z",
     "iopub.status.busy": "2025-10-11T12:01:00.777403Z",
     "iopub.status.idle": "2025-10-11T12:01:01.127921Z",
     "shell.execute_reply": "2025-10-11T12:01:01.127181Z"
    },
    "jupyter": {
     "outputs_hidden": false
    },
    "papermill": {
     "duration": 0.366802,
     "end_time": "2025-10-11T12:01:01.129256",
     "exception": false,
     "start_time": "2025-10-11T12:01:00.762454",
     "status": "completed"
    },
    "tags": []
   },
   "outputs": [
    {
     "data": {
      "image/png": "[encoded data removed]",
      "text/plain": [
       "<Figure size 1200x500 with 2 Axes>"
      ]
     },
     "metadata": {},
     "output_type": "display_data"
    }
   ],
   "source": [
    "def plot_performance_comparison(ablation_results):\n",
    "    \"\"\"Bar chart comparing model performance - ESSENTIAL for papers\"\"\"\n",
    "    models = list(ablation_results.keys())\n",
    "    val_accs = [np.mean(results['performance']['fold_val_acc']) for results in ablation_results.values()]\n",
    "    val_f1s = [np.mean(results['performance']['fold_val_f1_macro']) for results in ablation_results.values()]\n",
    "    \n",
    "    fig, (ax1, ax2) = plt.subplots(1, 2, figsize=(12, 5))\n",
    "    \n",
    "    # Accuracy comparison\n",
    "    bars1 = ax1.bar(models, val_accs, color=['#ff6b6b', '#4ecdc4', '#45b7d1'], alpha=0.8)\n",
    "    ax1.set_ylabel('Validation Accuracy')\n",
    "    ax1.set_title('Model Performance: Accuracy')\n",
    "    ax1.grid(True, alpha=0.3)\n",
    "    \n",
    "    # Add value labels on bars\n",
    "    for bar, acc in zip(bars1, val_accs):\n",
    "        ax1.text(bar.get_x() + bar.get_width()/2, bar.get_height() + 0.01, \n",
    "                f'{acc:.3f}', ha='center', va='bottom', fontweight='bold')\n",
    "    \n",
    "    # F1-score comparison\n",
    "    bars2 = ax2.bar(models, val_f1s, color=['#ff6b6b', '#4ecdc4', '#45b7d1'], alpha=0.8)\n",
    "    ax2.set_ylabel('F1 Macro Score')\n",
    "    ax2.set_title('Model Performance: F1-Macro')\n",
    "    ax2.grid(True, alpha=0.3)\n",
    "    \n",
    "    for bar, f1 in zip(bars2, val_f1s):\n",
    "        ax2.text(bar.get_x() + bar.get_width()/2, bar.get_height() + 0.01, \n",
    "                f'{f1:.3f}', ha='center', va='bottom', fontweight='bold')\n",
    "    \n",
    "    plt.tight_layout()\n",
    "    plt.show()\n",
    "\n",
    "# Usage\n",
    "plot_performance_comparison(ablation_results)"
   ]
  },
  {
   "cell_type": "code",
   "execution_count": 18,
   "id": "90adade0",
   "metadata": {
    "execution": {
     "iopub.execute_input": "2025-10-11T12:01:01.158936Z",
     "iopub.status.busy": "2025-10-11T12:01:01.158639Z",
     "iopub.status.idle": "2025-10-11T12:01:01.657049Z",
     "shell.execute_reply": "2025-10-11T12:01:01.656212Z"
    },
    "papermill": {
     "duration": 0.514683,
     "end_time": "2025-10-11T12:01:01.659176",
     "exception": false,
     "start_time": "2025-10-11T12:01:01.144493",
     "status": "completed"
    },
    "tags": []
   },
   "outputs": [
    {
     "data": {
      "image/png": "[encoded data removed]",
      "text/plain": [
       "<Figure size 1300x500 with 2 Axes>"
      ]
     },
     "metadata": {},
     "output_type": "display_data"
    }
   ],
   "source": [
    "def plot_efficiency_vs_performance(ablation_results):\n",
    "    \"\"\"Classic efficiency-performance trade-off plot\"\"\"\n",
    "    models = list(ablation_results.keys())\n",
    "    \n",
    "    # Extract data\n",
    "    performances = [np.mean(results['performance']['fold_val_acc']) for results in ablation_results.values()]\n",
    "    parameters = [results['efficiency']['parameters_millions'] for results in ablation_results.values()]\n",
    "    inference_times = [results['efficiency']['inference_time_ms'] for results in ablation_results.values()]\n",
    "    \n",
    "    fig, (ax1, ax2) = plt.subplots(1, 2, figsize=(13, 5))\n",
    "    \n",
    "    # Parameters vs Performance\n",
    "    scatter1 = ax1.scatter(parameters, performances, s=200, alpha=0.7)\n",
    "    ax1.set_xlabel('Model Size (Millions of Parameters)')\n",
    "    ax1.set_ylabel('Validation Accuracy')\n",
    "    ax1.set_title('Accuracy vs Model Size')\n",
    "    ax1.grid(True, alpha=0.3)\n",
    "    \n",
    "    # Add model labels\n",
    "    for i, model in enumerate(models):\n",
    "        ax1.annotate(model, (parameters[i], performances[i]), \n",
    "                    xytext=(5, 5), textcoords='offset points', fontweight='bold')\n",
    "    \n",
    "    # Inference Time vs Performance\n",
    "    scatter2 = ax2.scatter(inference_times, performances, s=200, alpha=0.7)\n",
    "    ax2.set_xlabel('Inference Time (ms)')\n",
    "    ax2.set_ylabel('Validation Accuracy')\n",
    "    ax2.set_title('Accuracy vs Inference Speed')\n",
    "    ax2.grid(True, alpha=0.3)\n",
    "    \n",
    "    for i, model in enumerate(models):\n",
    "        ax2.annotate(model, (inference_times[i], performances[i]), \n",
    "                    xytext=(5, 5), textcoords='offset points', fontweight='bold')\n",
    "    \n",
    "    plt.tight_layout()\n",
    "    plt.show()\n",
    "\n",
    "plot_efficiency_vs_performance(ablation_results)"
   ]
  },
  {
   "cell_type": "code",
   "execution_count": 19,
   "id": "37e0145e",
   "metadata": {
    "execution": {
     "iopub.execute_input": "2025-10-11T12:01:01.694543Z",
     "iopub.status.busy": "2025-10-11T12:01:01.694235Z",
     "iopub.status.idle": "2025-10-11T12:01:02.220925Z",
     "shell.execute_reply": "2025-10-11T12:01:02.220079Z"
    },
    "papermill": {
     "duration": 0.545183,
     "end_time": "2025-10-11T12:01:02.222818",
     "exception": false,
     "start_time": "2025-10-11T12:01:01.677635",
     "status": "completed"
    },
    "tags": []
   },
   "outputs": [
    {
     "data": {
      "image/png": "[encoded data removed]",
      "text/plain": [
       "<Figure size 1300x500 with 2 Axes>"
      ]
     },
     "metadata": {},
     "output_type": "display_data"
    }
   ],
   "source": [
    "def plot_training_curves_comparison(ablation_results):\n",
    "    \"\"\"Show how different models learn over time\"\"\"\n",
    "    fig, (ax1, ax2) = plt.subplots(1, 2, figsize=(13, 5))\n",
    "    \n",
    "    colors = {'RNN': 'Red', 'LSTM': 'Yellow', 'GRU': 'Blue'}\n",
    "    \n",
    "    for model_name, results in ablation_results.items():\n",
    "        perf = results['performance']\n",
    "        \n",
    "        # Plot accuracy convergence\n",
    "        epochs_used = int(np.mean(perf['epochs_used']))\n",
    "        epochs_range = range(1, epochs_used + 1)\n",
    "        \n",
    "        # Use average final performance as reference\n",
    "        final_acc = np.mean(perf['fold_val_acc'])\n",
    "        \n",
    "        ax1.plot(epochs_range, [final_acc * (i/epochs_used) for i in epochs_range], \n",
    "                label=model_name, color=colors[model_name], linewidth=2, marker='o')\n",
    "        \n",
    "        # Plot efficiency trade-off\n",
    "        ax2.scatter(results['efficiency']['inference_time_ms'], \n",
    "                   np.mean(perf['fold_val_acc']), \n",
    "                   s=200, label=model_name, color=colors[model_name], alpha=0.7)\n",
    "    \n",
    "    ax1.set_xlabel('Training Epochs')\n",
    "    ax1.set_ylabel('Validation Accuracy')\n",
    "    ax1.set_title('Model Learning Convergence')\n",
    "    ax1.legend()\n",
    "    ax1.grid(True, alpha=0.3)\n",
    "    \n",
    "    ax2.set_xlabel('Inference Time (ms)')\n",
    "    ax2.set_ylabel('Validation Accuracy')\n",
    "    ax2.set_title('Performance vs Speed Trade-off')\n",
    "    ax2.legend()\n",
    "    ax2.grid(True, alpha=0.3)\n",
    "    \n",
    "    plt.tight_layout()\n",
    "    plt.show()\n",
    "\n",
    "plot_training_curves_comparison(ablation_results)"
   ]
  },
  {
   "cell_type": "code",
   "execution_count": 20,
   "id": "847f8bdf",
   "metadata": {
    "execution": {
     "iopub.execute_input": "2025-10-11T12:01:02.258559Z",
     "iopub.status.busy": "2025-10-11T12:01:02.257881Z",
     "iopub.status.idle": "2025-10-11T12:01:02.465952Z",
     "shell.execute_reply": "2025-10-11T12:01:02.464945Z"
    },
    "papermill": {
     "duration": 0.227405,
     "end_time": "2025-10-11T12:01:02.467478",
     "exception": false,
     "start_time": "2025-10-11T12:01:02.240073",
     "status": "completed"
    },
    "tags": []
   },
   "outputs": [
    {
     "name": "stdout",
     "output_type": "stream",
     "text": [
      "📊 PUBLICATION-READY RESULTS TABLE\n",
      "================================================================================\n"
     ]
    },
    {
     "data": {
      "text/html": [
       "<style type=\"text/css\">\n",
       "#T_b00f8 th {\n",
       "  font-size: 14pt;\n",
       "  font-weight: bold;\n",
       "}\n",
       "#T_b00f8_row0_col0, #T_b00f8_row0_col1, #T_b00f8_row0_col2, #T_b00f8_row0_col3, #T_b00f8_row0_col4, #T_b00f8_row0_col5, #T_b00f8_row0_col6, #T_b00f8_row1_col0, #T_b00f8_row1_col1, #T_b00f8_row1_col2, #T_b00f8_row1_col3, #T_b00f8_row1_col4, #T_b00f8_row1_col5, #T_b00f8_row1_col6, #T_b00f8_row2_col0, #T_b00f8_row2_col1, #T_b00f8_row2_col2, #T_b00f8_row2_col3, #T_b00f8_row2_col4, #T_b00f8_row2_col5, #T_b00f8_row2_col6 {\n",
       "  text-align: center;\n",
       "  font-size: 12pt;\n",
       "}\n",
       "</style>\n",
       "<table id=\"T_b00f8\">\n",
       "  <thead>\n",
       "    <tr>\n",
       "      <th id=\"T_b00f8_level0_col0\" class=\"col_heading level0 col0\" >Model</th>\n",
       "      <th id=\"T_b00f8_level0_col1\" class=\"col_heading level0 col1\" >Val Accuracy</th>\n",
       "      <th id=\"T_b00f8_level0_col2\" class=\"col_heading level0 col2\" >Val F1-Macro</th>\n",
       "      <th id=\"T_b00f8_level0_col3\" class=\"col_heading level0 col3\" >Params (M)</th>\n",
       "      <th id=\"T_b00f8_level0_col4\" class=\"col_heading level0 col4\" >Inference (ms)</th>\n",
       "      <th id=\"T_b00f8_level0_col5\" class=\"col_heading level0 col5\" >Training Time (s)</th>\n",
       "      <th id=\"T_b00f8_level0_col6\" class=\"col_heading level0 col6\" >Epochs to Converge</th>\n",
       "    </tr>\n",
       "  </thead>\n",
       "  <tbody>\n",
       "    <tr>\n",
       "      <td id=\"T_b00f8_row0_col0\" class=\"data row0 col0\" >RNN</td>\n",
       "      <td id=\"T_b00f8_row0_col1\" class=\"data row0 col1\" >0.204 ± 0.010</td>\n",
       "      <td id=\"T_b00f8_row0_col2\" class=\"data row0 col2\" >0.057 ± 0.003</td>\n",
       "      <td id=\"T_b00f8_row0_col3\" class=\"data row0 col3\" >0.59</td>\n",
       "      <td id=\"T_b00f8_row0_col4\" class=\"data row0 col4\" >0.44</td>\n",
       "      <td id=\"T_b00f8_row0_col5\" class=\"data row0 col5\" >3.7</td>\n",
       "      <td id=\"T_b00f8_row0_col6\" class=\"data row0 col6\" >9.4</td>\n",
       "    </tr>\n",
       "    <tr>\n",
       "      <td id=\"T_b00f8_row1_col0\" class=\"data row1 col0\" >LSTM</td>\n",
       "      <td id=\"T_b00f8_row1_col1\" class=\"data row1 col1\" >0.212 ± 0.000</td>\n",
       "      <td id=\"T_b00f8_row1_col2\" class=\"data row1 col2\" >0.058 ± 0.000</td>\n",
       "      <td id=\"T_b00f8_row1_col3\" class=\"data row1 col3\" >0.67</td>\n",
       "      <td id=\"T_b00f8_row1_col4\" class=\"data row1 col4\" >0.63</td>\n",
       "      <td id=\"T_b00f8_row1_col5\" class=\"data row1 col5\" >2.7</td>\n",
       "      <td id=\"T_b00f8_row1_col6\" class=\"data row1 col6\" >12.2</td>\n",
       "    </tr>\n",
       "    <tr>\n",
       "      <td id=\"T_b00f8_row2_col0\" class=\"data row2 col0\" >GRU</td>\n",
       "      <td id=\"T_b00f8_row2_col1\" class=\"data row2 col1\" >0.633 ± 0.021</td>\n",
       "      <td id=\"T_b00f8_row2_col2\" class=\"data row2 col2\" >0.626 ± 0.028</td>\n",
       "      <td id=\"T_b00f8_row2_col3\" class=\"data row2 col3\" >0.64</td>\n",
       "      <td id=\"T_b00f8_row2_col4\" class=\"data row2 col4\" >0.58</td>\n",
       "      <td id=\"T_b00f8_row2_col5\" class=\"data row2 col5\" >3.1</td>\n",
       "      <td id=\"T_b00f8_row2_col6\" class=\"data row2 col6\" >14.2</td>\n",
       "    </tr>\n",
       "  </tbody>\n",
       "</table>\n"
      ],
      "text/plain": [
       "<pandas.io.formats.style.Styler at 0x7be1d5323010>"
      ]
     },
     "metadata": {},
     "output_type": "display_data"
    }
   ],
   "source": [
    "def create_publication_table(ablation_results):\n",
    "    \"\"\"Create a publication-ready results table\"\"\"\n",
    "    table_data = []\n",
    "    \n",
    "    for model_name, results in ablation_results.items():\n",
    "        perf = results['performance']\n",
    "        eff = results['efficiency']\n",
    "        \n",
    "        table_data.append({\n",
    "            'Model': model_name,\n",
    "            'Val Accuracy': f\"{np.mean(perf['fold_val_acc']):.3f} ± {np.std(perf['fold_val_acc']):.3f}\",\n",
    "            'Val F1-Macro': f\"{np.mean(perf['fold_val_f1_macro']):.3f} ± {np.std(perf['fold_val_f1_macro']):.3f}\",\n",
    "            'Params (M)': f\"{eff['parameters_millions']:.2f}\",\n",
    "            'Inference (ms)': f\"{eff['inference_time_ms']:.2f}\",\n",
    "            'Training Time (s)': f\"{np.mean(perf['training_time']):.1f}\",\n",
    "            'Epochs to Converge': f\"{np.mean(perf['epochs_used']):.1f}\"\n",
    "        })\n",
    "    \n",
    "    df = pd.DataFrame(table_data)\n",
    "    \n",
    "    # Style the table for publication\n",
    "    styled_df = df.style.set_properties(**{\n",
    "        'text-align': 'center',\n",
    "        'font-size': '12pt'\n",
    "    }).set_table_styles([{\n",
    "        'selector': 'th',\n",
    "        'props': [('font-size', '14pt'), ('font-weight', 'bold')]\n",
    "    }]).hide(axis='index')\n",
    "    \n",
    "    print(\"📊 PUBLICATION-READY RESULTS TABLE\")\n",
    "    print(\"=\"*80)\n",
    "    display(styled_df)\n",
    "    \n",
    "    return df\n",
    "\n",
    "results_table = create_publication_table(ablation_results)"
   ]
  },
  {
   "cell_type": "code",
   "execution_count": null,
   "id": "1116e020",
   "metadata": {
    "papermill": {
     "duration": 0.017211,
     "end_time": "2025-10-11T12:01:02.503097",
     "exception": false,
     "start_time": "2025-10-11T12:01:02.485886",
     "status": "completed"
    },
    "tags": []
   },
   "outputs": [],
   "source": []
  }
 ],
 "metadata": {
  "kaggle": {
   "accelerator": "nvidiaTeslaT4",
   "dataSources": [
    {
     "datasetId": 8422736,
     "sourceId": 13289672,
     "sourceType": "datasetVersion"
    }
   ],
   "dockerImageVersionId": 31153,
   "isGpuEnabled": true,
   "isInternetEnabled": true,
   "language": "python",
   "sourceType": "notebook"
  },
  "kernelspec": {
   "display_name": "Python 3",
   "language": "python",
   "name": "python3"
  },
  "language_info": {
   "codemirror_mode": {
    "name": "ipython",
    "version": 3
   },
   "file_extension": ".py",
   "mimetype": "text/x-python",
   "name": "python",
   "nbconvert_exporter": "python",
   "pygments_lexer": "ipython3",
   "version": "3.11.13"
  },
  "papermill": {
   "default_parameters": {},
   "duration": 72.730029,
   "end_time": "2025-10-11T12:01:05.208046",
   "environment_variables": {},
   "exception": null,
   "input_path": "__notebook__.ipynb",
   "output_path": "__notebook__.ipynb",
   "parameters": {},
   "start_time": "2025-10-11T11:59:52.478017",
   "version": "2.6.0"
  }
 },
 "nbformat": 4,
 "nbformat_minor": 5
}
