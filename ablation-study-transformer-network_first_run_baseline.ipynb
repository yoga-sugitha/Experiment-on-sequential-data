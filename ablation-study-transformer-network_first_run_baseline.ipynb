{
 "cells": [
  {
   "cell_type": "code",
   "execution_count": 1,
   "id": "faffccef",
   "metadata": {
    "execution": {
     "iopub.execute_input": "2025-10-15T08:10:41.922921Z",
     "iopub.status.busy": "2025-10-15T08:10:41.922719Z",
     "iopub.status.idle": "2025-10-15T08:10:51.692442Z",
     "shell.execute_reply": "2025-10-15T08:10:51.691653Z"
    },
    "papermill": {
     "duration": 9.779939,
     "end_time": "2025-10-15T08:10:51.693947",
     "exception": false,
     "start_time": "2025-10-15T08:10:41.914008",
     "status": "completed"
    },
    "tags": []
   },
   "outputs": [
    {
     "name": "stdout",
     "output_type": "stream",
     "text": [
      "\u001b[2K     \u001b[90m━━━━━━━━━━━━━━━━━━━━━━━━━━━━━━━━━━━━━━━━\u001b[0m \u001b[32m50.2/50.2 kB\u001b[0m \u001b[31m1.3 MB/s\u001b[0m eta \u001b[36m0:00:00\u001b[0m\r\n",
      "\u001b[?25h  Preparing metadata (setup.py) ... \u001b[?25l\u001b[?25hdone\r\n",
      "\u001b[2K     \u001b[90m━━━━━━━━━━━━━━━━━━━━━━━━━━━━━━━━━━━━━━━━\u001b[0m \u001b[32m42.2/42.2 kB\u001b[0m \u001b[31m2.0 MB/s\u001b[0m eta \u001b[36m0:00:00\u001b[0m\r\n",
      "\u001b[?25h  Preparing metadata (setup.py) ... \u001b[?25l\u001b[?25hdone\r\n",
      "  Building wheel for fvcore (setup.py) ... \u001b[?25l\u001b[?25hdone\r\n",
      "  Building wheel for iopath (setup.py) ... \u001b[?25l\u001b[?25hdone\r\n"
     ]
    }
   ],
   "source": [
    "!pip install -q fvcore"
   ]
  },
  {
   "cell_type": "code",
   "execution_count": 2,
   "id": "798d6e7f",
   "metadata": {
    "_cell_guid": "207b8d98-a37a-4036-8649-03bf7e18d26c",
    "_uuid": "44fb6694-372e-474c-a2b7-b8ce70dfb6be",
    "collapsed": false,
    "execution": {
     "iopub.execute_input": "2025-10-15T08:10:51.707761Z",
     "iopub.status.busy": "2025-10-15T08:10:51.707512Z",
     "iopub.status.idle": "2025-10-15T08:11:03.646541Z",
     "shell.execute_reply": "2025-10-15T08:11:03.645704Z"
    },
    "jupyter": {
     "outputs_hidden": false
    },
    "papermill": {
     "duration": 11.947421,
     "end_time": "2025-10-15T08:11:03.647796",
     "exception": false,
     "start_time": "2025-10-15T08:10:51.700375",
     "status": "completed"
    },
    "tags": []
   },
   "outputs": [
    {
     "name": "stdout",
     "output_type": "stream",
     "text": [
      "Used device: cuda\n",
      "Number of devices: 2\n"
     ]
    }
   ],
   "source": [
    "import os, time, random, re, math, json\n",
    "import pandas as pd\n",
    "import numpy as np\n",
    "import seaborn as sns\n",
    "import matplotlib.pyplot as plt\n",
    "from sklearn.model_selection import train_test_split\n",
    "from sklearn.metrics import f1_score, accuracy_score, classification_report, confusion_matrix\n",
    "from collections import Counter\n",
    "from tqdm.auto import tqdm\n",
    "from sklearn.preprocessing import LabelEncoder\n",
    "\n",
    "from fvcore.nn import FlopCountAnalysis, parameter_count_table\n",
    "\n",
    "import torch\n",
    "import torchinfo\n",
    "import torch.nn as nn\n",
    "from torch.utils.data import Dataset, DataLoader\n",
    "from torch.optim import Optimizer\n",
    "from torchinfo import summary\n",
    "from torch.profiler import profile, record_function, ProfilerActivity\n",
    "# Reproducible seed\n",
    "def set_seed(seed: int = 123):\n",
    "    random.seed(seed)\n",
    "    np.random.seed(seed)\n",
    "    os.environ.get('PYTHONHASHSEED') == str(seed)\n",
    "    torch.manual_seed(seed)\n",
    "    torch.cuda.manual_seed(seed)\n",
    "    torch.cuda.manual_seed_all(seed) \n",
    "\n",
    "\n",
    "device = torch.accelerator.current_accelerator() if torch.accelerator.is_available() else torch.device('cpu')\n",
    "print(f\"Used device: {device}\\nNumber of devices: {torch.accelerator.device_count()}\")"
   ]
  },
  {
   "cell_type": "code",
   "execution_count": 3,
   "id": "18d033c7",
   "metadata": {
    "_cell_guid": "569d1633-bebc-4e47-8bfb-2fe8e0634f54",
    "_uuid": "3bc2ca7f-c61f-4554-8976-723edc633457",
    "collapsed": false,
    "execution": {
     "iopub.execute_input": "2025-10-15T08:11:03.661559Z",
     "iopub.status.busy": "2025-10-15T08:11:03.661180Z",
     "iopub.status.idle": "2025-10-15T08:11:03.725290Z",
     "shell.execute_reply": "2025-10-15T08:11:03.724549Z"
    },
    "jupyter": {
     "outputs_hidden": false
    },
    "papermill": {
     "duration": 0.072458,
     "end_time": "2025-10-15T08:11:03.726580",
     "exception": false,
     "start_time": "2025-10-15T08:11:03.654122",
     "status": "completed"
    },
    "tags": []
   },
   "outputs": [
    {
     "data": {
      "text/html": [
       "<div>\n",
       "<style scoped>\n",
       "    .dataframe tbody tr th:only-of-type {\n",
       "        vertical-align: middle;\n",
       "    }\n",
       "\n",
       "    .dataframe tbody tr th {\n",
       "        vertical-align: top;\n",
       "    }\n",
       "\n",
       "    .dataframe thead th {\n",
       "        text-align: right;\n",
       "    }\n",
       "</style>\n",
       "<table border=\"1\" class=\"dataframe\">\n",
       "  <thead>\n",
       "    <tr style=\"text-align: right;\">\n",
       "      <th></th>\n",
       "      <th>tweet</th>\n",
       "      <th>label</th>\n",
       "    </tr>\n",
       "  </thead>\n",
       "  <tbody>\n",
       "    <tr>\n",
       "      <th>0</th>\n",
       "      <td>wah belom liat muka gue lagi murka hahahaha</td>\n",
       "      <td>joy</td>\n",
       "    </tr>\n",
       "    <tr>\n",
       "      <th>1</th>\n",
       "      <td>Mungkin kurang piknik adrenalin. Mereka yg ske...</td>\n",
       "      <td>anger</td>\n",
       "    </tr>\n",
       "    <tr>\n",
       "      <th>2</th>\n",
       "      <td>maaf kalo tersinggung \"orang kurus cepet mati\"...</td>\n",
       "      <td>anger</td>\n",
       "    </tr>\n",
       "    <tr>\n",
       "      <th>3</th>\n",
       "      <td>berserah pada maha esa paling tabah dan sabar ...</td>\n",
       "      <td>joy</td>\n",
       "    </tr>\n",
       "    <tr>\n",
       "      <th>4</th>\n",
       "      <td>Ehekk malu la hahahahahahaha</td>\n",
       "      <td>sadness</td>\n",
       "    </tr>\n",
       "  </tbody>\n",
       "</table>\n",
       "</div>"
      ],
      "text/plain": [
       "                                               tweet    label\n",
       "0        wah belom liat muka gue lagi murka hahahaha      joy\n",
       "1  Mungkin kurang piknik adrenalin. Mereka yg ske...    anger\n",
       "2  maaf kalo tersinggung \"orang kurus cepet mati\"...    anger\n",
       "3  berserah pada maha esa paling tabah dan sabar ...      joy\n",
       "4                       Ehekk malu la hahahahahahaha  sadness"
      ]
     },
     "execution_count": 3,
     "metadata": {},
     "output_type": "execute_result"
    }
   ],
   "source": [
    "df = pd.read_csv('/kaggle/input/emotweetid-human-labeled-dataset/EmoTweetID-Human.csv')\n",
    "df.drop(columns='Unnamed: 0',inplace=True)\n",
    "df.head()"
   ]
  },
  {
   "cell_type": "markdown",
   "id": "c86677df",
   "metadata": {
    "_cell_guid": "01063824-1041-4f74-8443-d8c9fe575541",
    "_uuid": "90129a1d-cae2-42e5-9fc1-ce0fbbb4360d",
    "collapsed": false,
    "jupyter": {
     "outputs_hidden": false
    },
    "papermill": {
     "duration": 0.006474,
     "end_time": "2025-10-15T08:11:03.740073",
     "exception": false,
     "start_time": "2025-10-15T08:11:03.733599",
     "status": "completed"
    },
    "tags": []
   },
   "source": [
    "## Data Preparation"
   ]
  },
  {
   "cell_type": "markdown",
   "id": "da82c49f",
   "metadata": {
    "_cell_guid": "f45ef621-264c-4fde-aa4d-8976ca1a3204",
    "_uuid": "122773f6-ea5f-42d4-836f-521fd2b893bd",
    "collapsed": false,
    "jupyter": {
     "outputs_hidden": false
    },
    "papermill": {
     "duration": 0.005608,
     "end_time": "2025-10-15T08:11:03.751578",
     "exception": false,
     "start_time": "2025-10-15T08:11:03.745970",
     "status": "completed"
    },
    "tags": []
   },
   "source": [
    "#### Text cleaning"
   ]
  },
  {
   "cell_type": "code",
   "execution_count": 4,
   "id": "7e595489",
   "metadata": {
    "_cell_guid": "7bcc3c8a-2167-43d7-85e9-422d228e1670",
    "_uuid": "27e7e25e-1233-4dd4-a820-e438b543c645",
    "collapsed": false,
    "execution": {
     "iopub.execute_input": "2025-10-15T08:11:03.764529Z",
     "iopub.status.busy": "2025-10-15T08:11:03.764039Z",
     "iopub.status.idle": "2025-10-15T08:11:03.795195Z",
     "shell.execute_reply": "2025-10-15T08:11:03.794419Z"
    },
    "jupyter": {
     "outputs_hidden": false
    },
    "papermill": {
     "duration": 0.038871,
     "end_time": "2025-10-15T08:11:03.796362",
     "exception": false,
     "start_time": "2025-10-15T08:11:03.757491",
     "status": "completed"
    },
    "tags": []
   },
   "outputs": [
    {
     "data": {
      "text/html": [
       "<div>\n",
       "<style scoped>\n",
       "    .dataframe tbody tr th:only-of-type {\n",
       "        vertical-align: middle;\n",
       "    }\n",
       "\n",
       "    .dataframe tbody tr th {\n",
       "        vertical-align: top;\n",
       "    }\n",
       "\n",
       "    .dataframe thead th {\n",
       "        text-align: right;\n",
       "    }\n",
       "</style>\n",
       "<table border=\"1\" class=\"dataframe\">\n",
       "  <thead>\n",
       "    <tr style=\"text-align: right;\">\n",
       "      <th></th>\n",
       "      <th>tweet</th>\n",
       "      <th>label</th>\n",
       "      <th>cleaned_text</th>\n",
       "    </tr>\n",
       "  </thead>\n",
       "  <tbody>\n",
       "    <tr>\n",
       "      <th>0</th>\n",
       "      <td>wah belom liat muka gue lagi murka hahahaha</td>\n",
       "      <td>joy</td>\n",
       "      <td>wah belom liat muka gue lagi murka hahahaha</td>\n",
       "    </tr>\n",
       "    <tr>\n",
       "      <th>1</th>\n",
       "      <td>Mungkin kurang piknik adrenalin. Mereka yg ske...</td>\n",
       "      <td>anger</td>\n",
       "      <td>mungkin kurang piknik adrenalin mereka yg skep...</td>\n",
       "    </tr>\n",
       "    <tr>\n",
       "      <th>2</th>\n",
       "      <td>maaf kalo tersinggung \"orang kurus cepet mati\"...</td>\n",
       "      <td>anger</td>\n",
       "      <td>maaf kalo tersinggung orang kurus cepet mati w...</td>\n",
       "    </tr>\n",
       "    <tr>\n",
       "      <th>3</th>\n",
       "      <td>berserah pada maha esa paling tabah dan sabar ...</td>\n",
       "      <td>joy</td>\n",
       "      <td>berserah pada maha esa paling tabah dan sabar ...</td>\n",
       "    </tr>\n",
       "    <tr>\n",
       "      <th>4</th>\n",
       "      <td>Ehekk malu la hahahahahahaha</td>\n",
       "      <td>sadness</td>\n",
       "      <td>ehekk malu la hahahahahahaha</td>\n",
       "    </tr>\n",
       "  </tbody>\n",
       "</table>\n",
       "</div>"
      ],
      "text/plain": [
       "                                               tweet    label  \\\n",
       "0        wah belom liat muka gue lagi murka hahahaha      joy   \n",
       "1  Mungkin kurang piknik adrenalin. Mereka yg ske...    anger   \n",
       "2  maaf kalo tersinggung \"orang kurus cepet mati\"...    anger   \n",
       "3  berserah pada maha esa paling tabah dan sabar ...      joy   \n",
       "4                       Ehekk malu la hahahahahahaha  sadness   \n",
       "\n",
       "                                        cleaned_text  \n",
       "0        wah belom liat muka gue lagi murka hahahaha  \n",
       "1  mungkin kurang piknik adrenalin mereka yg skep...  \n",
       "2  maaf kalo tersinggung orang kurus cepet mati w...  \n",
       "3  berserah pada maha esa paling tabah dan sabar ...  \n",
       "4                       ehekk malu la hahahahahahaha  "
      ]
     },
     "execution_count": 4,
     "metadata": {},
     "output_type": "execute_result"
    }
   ],
   "source": [
    "def clean_text(text):\n",
    "    if isinstance(text, float):\n",
    "        return \"\"\n",
    "    text = str(text)\n",
    "    text = re.sub('<[^>]*>', '', text)\n",
    "    emoticons = re.findall('(?::|;|=)(?:-)?(?:\\)|\\(|D|P)', text.lower())\n",
    "    text = re.sub('[\\W]+', ' ', text.lower()) + ' ' + ' '.join(emoticons).replace('-', '')\n",
    "    return text.strip()\n",
    "\n",
    "df['cleaned_text'] = df['tweet'].apply(clean_text)\n",
    "df.head()"
   ]
  },
  {
   "cell_type": "markdown",
   "id": "8428377c",
   "metadata": {
    "_cell_guid": "4252cfab-ad67-40e1-aff0-2f51ae59e871",
    "_uuid": "de9d1cf6-d994-4176-b4e1-3d99ccedfd54",
    "collapsed": false,
    "jupyter": {
     "outputs_hidden": false
    },
    "papermill": {
     "duration": 0.006547,
     "end_time": "2025-10-15T08:11:03.809617",
     "exception": false,
     "start_time": "2025-10-15T08:11:03.803070",
     "status": "completed"
    },
    "tags": []
   },
   "source": [
    "#### build vocabulary"
   ]
  },
  {
   "cell_type": "code",
   "execution_count": 5,
   "id": "fdc9229c",
   "metadata": {
    "_cell_guid": "76b46ad8-ad03-499d-b443-22afcfc5f50f",
    "_uuid": "8a99f040-c3d0-4e9d-9a06-2000c494648a",
    "collapsed": false,
    "execution": {
     "iopub.execute_input": "2025-10-15T08:11:03.822628Z",
     "iopub.status.busy": "2025-10-15T08:11:03.822102Z",
     "iopub.status.idle": "2025-10-15T08:11:03.838807Z",
     "shell.execute_reply": "2025-10-15T08:11:03.838183Z"
    },
    "jupyter": {
     "outputs_hidden": false
    },
    "papermill": {
     "duration": 0.024411,
     "end_time": "2025-10-15T08:11:03.839915",
     "exception": false,
     "start_time": "2025-10-15T08:11:03.815504",
     "status": "completed"
    },
    "tags": []
   },
   "outputs": [
    {
     "name": "stdout",
     "output_type": "stream",
     "text": [
      "Vocabulary size: 3294\n",
      "Most common tokens: [('aku', 708), ('yg', 506), ('yang', 363), ('dan', 360), ('di', 331), ('ada', 289), ('sama', 282), ('aja', 274), ('dia', 272), ('ya', 272)]\n"
     ]
    }
   ],
   "source": [
    "class Vocabulary:\n",
    "    def __init__(self, min_freq=1):\n",
    "        self.min_freq = min_freq\n",
    "        self.special_tokens = ['<pad>', '<unk>', '<cls>', '<sep>']\n",
    "        self.token2idx = {}\n",
    "        self.idx2token = {}\n",
    "        self.frequencies = Counter()\n",
    "\n",
    "    def build_vocab(self, texts):\n",
    "        for text in texts:\n",
    "            tokens = text.split()\n",
    "            self.frequencies.update(tokens)\n",
    "\n",
    "        for i, token in enumerate(self.special_tokens):\n",
    "            self.token2idx[token] = i\n",
    "            self.idx2token[i] = token\n",
    "\n",
    "        idx = len(self.special_tokens)\n",
    "        for token, freq in self.frequencies.items():\n",
    "            if freq >= self.min_freq and token not in self.token2idx:\n",
    "                self.token2idx[token] = idx\n",
    "                self.idx2token[idx] = token\n",
    "                idx += 1\n",
    "\n",
    "    def __len__(self):\n",
    "        return len(self.token2idx)\n",
    "\n",
    "    def __getitem__(self, token):\n",
    "        return self.token2idx.get(token, self.token2idx['<unk>'])\n",
    "\n",
    "    def tokens_to_indices(self, tokens):\n",
    "        return [self[token] for token in tokens]\n",
    "\n",
    "    def indices_to_tokens(self, indices):\n",
    "        return [self.idx2token[idx] for idx in indices]\n",
    "\n",
    "vocab = Vocabulary(min_freq=2)\n",
    "vocab.build_vocab(df['cleaned_text'])\n",
    "vocab_size = len(vocab)\n",
    "print(f\"Vocabulary size: {vocab_size}\")\n",
    "print(f\"Most common tokens: {vocab.frequencies.most_common(10)}\")"
   ]
  },
  {
   "cell_type": "markdown",
   "id": "2d7102f0",
   "metadata": {
    "_cell_guid": "dfa92903-dbfa-4db5-b9b0-15779cf88c13",
    "_uuid": "2862549c-f3d7-49dc-acc2-d9f14cbf4cb8",
    "collapsed": false,
    "jupyter": {
     "outputs_hidden": false
    },
    "papermill": {
     "duration": 0.005818,
     "end_time": "2025-10-15T08:11:03.851852",
     "exception": false,
     "start_time": "2025-10-15T08:11:03.846034",
     "status": "completed"
    },
    "tags": []
   },
   "source": [
    "#### create dataset"
   ]
  },
  {
   "cell_type": "code",
   "execution_count": 6,
   "id": "e3d3bcf9",
   "metadata": {
    "_cell_guid": "19349eb4-fb56-4e39-8ef0-44b5cbf658a8",
    "_uuid": "f26f127a-f57c-4aa9-aead-99dc680667c8",
    "collapsed": false,
    "execution": {
     "iopub.execute_input": "2025-10-15T08:11:03.864675Z",
     "iopub.status.busy": "2025-10-15T08:11:03.864466Z",
     "iopub.status.idle": "2025-10-15T08:11:03.880896Z",
     "shell.execute_reply": "2025-10-15T08:11:03.880142Z"
    },
    "jupyter": {
     "outputs_hidden": false
    },
    "papermill": {
     "duration": 0.023989,
     "end_time": "2025-10-15T08:11:03.881937",
     "exception": false,
     "start_time": "2025-10-15T08:11:03.857948",
     "status": "completed"
    },
    "tags": []
   },
   "outputs": [
    {
     "name": "stdout",
     "output_type": "stream",
     "text": [
      "Max sequence length: 44\n"
     ]
    }
   ],
   "source": [
    "class EmotDataset(Dataset):\n",
    "    def __init__(self, texts, labels, vocab, max_length):\n",
    "        self.texts = texts\n",
    "        self.labels = labels\n",
    "        self.vocab = vocab\n",
    "        self.max_length = max_length\n",
    "\n",
    "        self.label_encoder = LabelEncoder()\n",
    "        self.encoded_label = self.label_encoder.fit_transform(labels)\n",
    "        self.num_classes = len(self.label_encoder.classes_)\n",
    "\n",
    "    def __len__(self):\n",
    "        return len(self.texts)\n",
    "\n",
    "    def text_to_tensor(self, text):\n",
    "        \"\"\"Convert text to tensor with padding\"\"\"\n",
    "        tokens = text.split()[:self.max_length]\n",
    "        token_ids = self.vocab.tokens_to_indices(tokens)\n",
    "\n",
    "        # pad sequence\n",
    "        if len(token_ids) < self.max_length:\n",
    "            padding = [self.vocab['<pad>']] * (self.max_length - len(token_ids))\n",
    "            token_ids = token_ids + padding\n",
    "\n",
    "        else:\n",
    "            token_ids = token_ids[:self.max_length]\n",
    "\n",
    "        attention_mask = [1] * len(tokens) + [0] * (self.max_length - len(tokens))\n",
    "\n",
    "        return torch.tensor(token_ids, dtype=torch.long), torch.tensor(attention_mask, dtype=torch.long)\n",
    "\n",
    "    def __getitem__(self, idx):\n",
    "        text = self.texts.iloc[idx]\n",
    "        label = self.encoded_label[idx]\n",
    "\n",
    "        input_ids, attention_mask = self.text_to_tensor(text)\n",
    "\n",
    "        return {\n",
    "            'input_ids': input_ids,\n",
    "            'attention_mask': attention_mask,\n",
    "            'labels': torch.tensor(label, dtype=torch.long)\n",
    "        }\n",
    "\n",
    "lengths = df['cleaned_text'].apply(lambda x: len(x.split()))\n",
    "max_length = min(int(lengths.quantile(0.95)), 512)  # Cap at 512\n",
    "print(f\"Max sequence length: {max_length}\")"
   ]
  },
  {
   "cell_type": "markdown",
   "id": "7bd3dd2f",
   "metadata": {
    "_cell_guid": "b785e421-ee81-4b65-9e08-a0eb547d0d38",
    "_uuid": "f4556593-87cb-4189-a073-0a80e6fff5f2",
    "collapsed": false,
    "jupyter": {
     "outputs_hidden": false
    },
    "papermill": {
     "duration": 0.006021,
     "end_time": "2025-10-15T08:11:03.894027",
     "exception": false,
     "start_time": "2025-10-15T08:11:03.888006",
     "status": "completed"
    },
    "tags": []
   },
   "source": [
    "#### Data splitting & loaders"
   ]
  },
  {
   "cell_type": "code",
   "execution_count": 7,
   "id": "30642ee1",
   "metadata": {
    "_cell_guid": "db66d52f-9b15-4d9c-8800-e1e0c5b42642",
    "_uuid": "4b66f0fb-f8b5-4ce4-88a8-1010d063cc09",
    "collapsed": false,
    "execution": {
     "iopub.execute_input": "2025-10-15T08:11:03.907050Z",
     "iopub.status.busy": "2025-10-15T08:11:03.906846Z",
     "iopub.status.idle": "2025-10-15T08:11:03.926288Z",
     "shell.execute_reply": "2025-10-15T08:11:03.925668Z"
    },
    "jupyter": {
     "outputs_hidden": false
    },
    "papermill": {
     "duration": 0.027135,
     "end_time": "2025-10-15T08:11:03.927232",
     "exception": false,
     "start_time": "2025-10-15T08:11:03.900097",
     "status": "completed"
    },
    "tags": []
   },
   "outputs": [
    {
     "name": "stdout",
     "output_type": "stream",
     "text": [
      "Training samples: 1570\n",
      "Validation samples: 336\n",
      "Testing samples: 337\n",
      "Number of classes: 6\n",
      "Classes: ['anger' 'disgust' 'fear' 'joy' 'sadness' 'surprise']\n"
     ]
    }
   ],
   "source": [
    "set_seed()\n",
    "# --- First split: Train (70%) + Temp (30%) ---\n",
    "train_texts, temp_texts, train_labels, temp_labels = train_test_split(\n",
    "    df['cleaned_text'], df['label'],\n",
    "    test_size=0.3,\n",
    "    random_state=123,\n",
    "    stratify=df['label']\n",
    ")\n",
    "\n",
    "# --- Second split: Validation (15%) + Test (15%) ---\n",
    "# Since temp is 30% of original, splitting it 0.5/0.5 gives 15% each\n",
    "val_texts, test_texts, val_labels, test_labels = train_test_split(\n",
    "    temp_texts, temp_labels,\n",
    "    test_size=0.5,\n",
    "    random_state=123,\n",
    "    stratify=temp_labels\n",
    ")\n",
    "\n",
    "train_dataset = EmotDataset(train_texts, train_labels, vocab, max_length)\n",
    "val_dataset = EmotDataset(val_texts, val_labels, vocab, max_length)\n",
    "test_dataset = EmotDataset(test_texts, test_labels, vocab, max_length)\n",
    "\n",
    "def collate_fn(batch):\n",
    "    input_ids = torch.stack([item['input_ids'] for item in batch])\n",
    "    attention_mask = torch.stack([item['attention_mask'] for item in batch])\n",
    "    labels = torch.stack([item['labels'] for item in batch])\n",
    "\n",
    "    return {\n",
    "        'input_ids': input_ids,\n",
    "        'attention_mask': attention_mask,\n",
    "        'labels': labels\n",
    "    }\n",
    "\n",
    "train_loader = DataLoader(\n",
    "    train_dataset,\n",
    "    batch_size=32,\n",
    "    shuffle=True,\n",
    "    collate_fn=collate_fn\n",
    ")\n",
    "\n",
    "val_loader = DataLoader(\n",
    "    val_dataset,\n",
    "    batch_size=32,\n",
    "    shuffle=False,\n",
    "    collate_fn=collate_fn\n",
    ")\n",
    "test_loader = DataLoader(\n",
    "    test_dataset,\n",
    "    batch_size=32,\n",
    "    shuffle=False,\n",
    "    collate_fn=collate_fn\n",
    ")\n",
    "\n",
    "\n",
    "num_classes = train_dataset.num_classes\n",
    "print(f\"Training samples: {len(train_dataset)}\")\n",
    "print(f\"Validation samples: {len(val_dataset)}\")\n",
    "print(f\"Testing samples: {len(test_dataset)}\")\n",
    "print(f\"Number of classes: {num_classes}\")\n",
    "print(f\"Classes: {train_dataset.label_encoder.classes_}\")"
   ]
  },
  {
   "cell_type": "code",
   "execution_count": 8,
   "id": "651669eb",
   "metadata": {
    "execution": {
     "iopub.execute_input": "2025-10-15T08:11:03.940214Z",
     "iopub.status.busy": "2025-10-15T08:11:03.940008Z",
     "iopub.status.idle": "2025-10-15T08:11:03.943796Z",
     "shell.execute_reply": "2025-10-15T08:11:03.943116Z"
    },
    "papermill": {
     "duration": 0.011528,
     "end_time": "2025-10-15T08:11:03.944768",
     "exception": false,
     "start_time": "2025-10-15T08:11:03.933240",
     "status": "completed"
    },
    "tags": []
   },
   "outputs": [
    {
     "name": "stdout",
     "output_type": "stream",
     "text": [
      "Train dataset size: 1570\n",
      "Number of train batches: 50\n",
      "Val dataset size: 336\n",
      "Number of val batches: 11\n"
     ]
    }
   ],
   "source": [
    "print(f\"Train dataset size: {len(train_loader.dataset)}\")\n",
    "print(f\"Number of train batches: {len(train_loader)}\")\n",
    "print(f\"Val dataset size: {len(val_loader.dataset)}\")\n",
    "print(f\"Number of val batches: {len(val_loader)}\")"
   ]
  },
  {
   "cell_type": "code",
   "execution_count": 9,
   "id": "d5f9d0cf",
   "metadata": {
    "_cell_guid": "63650977-ec87-497d-8379-641cc06605d7",
    "_uuid": "e8a8041b-d442-402d-9628-5ff8b244ac3e",
    "collapsed": false,
    "execution": {
     "iopub.execute_input": "2025-10-15T08:11:03.958186Z",
     "iopub.status.busy": "2025-10-15T08:11:03.957703Z",
     "iopub.status.idle": "2025-10-15T08:11:04.074869Z",
     "shell.execute_reply": "2025-10-15T08:11:04.074062Z"
    },
    "jupyter": {
     "outputs_hidden": false
    },
    "papermill": {
     "duration": 0.125157,
     "end_time": "2025-10-15T08:11:04.075981",
     "exception": false,
     "start_time": "2025-10-15T08:11:03.950824",
     "status": "completed"
    },
    "tags": []
   },
   "outputs": [
    {
     "name": "stdout",
     "output_type": "stream",
     "text": [
      "Batch input_ids shape: torch.Size([32, 44])\n",
      "Batch attention_mask shape: torch.Size([32, 44])\n",
      "Batch labels shape: torch.Size([32])\n",
      "\n",
      "Sample input_ids: tensor([   1,    1,  303,  302,    1, 1889, 1728,    1, 1197,  640])...\n",
      "Sample attention_mask: tensor([1, 1, 1, 1, 1, 1, 1, 1, 1, 1])...\n",
      "Sample label: 4\n",
      "\n",
      "Padding token ID: 0\n",
      "Unknown token ID: 1\n"
     ]
    }
   ],
   "source": [
    "# Test one batch\n",
    "batch = next(iter(train_loader))\n",
    "print(f\"Batch input_ids shape: {batch['input_ids'].shape}\")  # [batch_size, max_length]\n",
    "print(f\"Batch attention_mask shape: {batch['attention_mask'].shape}\")\n",
    "print(f\"Batch labels shape: {batch['labels'].shape}\")\n",
    "\n",
    "# Show sample data\n",
    "print(f\"\\nSample input_ids: {batch['input_ids'][0][:10]}...\")  # First 10 tokens\n",
    "print(f\"Sample attention_mask: {batch['attention_mask'][0][:10]}...\")\n",
    "print(f\"Sample label: {batch['labels'][0]}\")\n",
    "\n",
    "# Verify padding works\n",
    "print(f\"\\nPadding token ID: {vocab['<pad>']}\")\n",
    "print(f\"Unknown token ID: {vocab['<unk>']}\")"
   ]
  },
  {
   "cell_type": "markdown",
   "id": "f3103c68",
   "metadata": {
    "_cell_guid": "f212b240-508b-4a20-911d-91e0e137742a",
    "_uuid": "e786aa89-973f-4e49-aec7-d9ff0380733a",
    "collapsed": false,
    "jupyter": {
     "outputs_hidden": false
    },
    "papermill": {
     "duration": 0.006291,
     "end_time": "2025-10-15T08:11:04.089445",
     "exception": false,
     "start_time": "2025-10-15T08:11:04.083154",
     "status": "completed"
    },
    "tags": []
   },
   "source": [
    "## Multihead Attention"
   ]
  },
  {
   "cell_type": "code",
   "execution_count": 10,
   "id": "05a9d703",
   "metadata": {
    "_cell_guid": "d82d28da-1a07-456c-aac6-ed7cdef8e874",
    "_uuid": "bcb04f0c-edbf-4192-859a-52d57874f1d6",
    "collapsed": false,
    "execution": {
     "iopub.execute_input": "2025-10-15T08:11:04.102840Z",
     "iopub.status.busy": "2025-10-15T08:11:04.102655Z",
     "iopub.status.idle": "2025-10-15T08:11:04.110371Z",
     "shell.execute_reply": "2025-10-15T08:11:04.109841Z"
    },
    "jupyter": {
     "outputs_hidden": false
    },
    "papermill": {
     "duration": 0.015836,
     "end_time": "2025-10-15T08:11:04.111442",
     "exception": false,
     "start_time": "2025-10-15T08:11:04.095606",
     "status": "completed"
    },
    "tags": []
   },
   "outputs": [],
   "source": [
    "class MultiHeadAttention(nn.Module):\n",
    "    \"\"\"\n",
    "    It computes the attention between each pair of positions in a sequence, consisting multiple 'attention heads' to capture different 'important aspects' of the input.\n",
    "\n",
    "    Arguments:\n",
    "        d_model = Dimensionality of the input\n",
    "        num_heads = The number of attention heas to split the input info.\n",
    "    \"\"\"\n",
    "    def __init__(self, d_model, num_heads):\n",
    "        super(MultiHeadAttention, self).__init__()\n",
    "        assert d_model % num_heads == 0, \"model dimension (d_model) must be divisible by num_heads\"\n",
    "\n",
    "        self.d_model = d_model # model's dimension\n",
    "        self.num_heads = num_heads\n",
    "        self.d_k = d_model // num_heads\n",
    "\n",
    "        # Linear layers for transforming inputs\n",
    "        self.W_q = nn.Linear(d_model, d_model)\n",
    "        self.W_k = nn.Linear(d_model, d_model)\n",
    "        self.W_v = nn.Linear(d_model, d_model)\n",
    "        self.W_o = nn.Linear(d_model, d_model)\n",
    "\n",
    "    def scaled_dot_product_attention(self, Q, K, V, mask=None):\n",
    "        \"\"\"\n",
    "        [1] Calculate attention scores by taking the dot product of queries (Q) and keys (K), and then scaling by the square root of the key dimension (d_k).\n",
    "        [2] Apply the attention scores to mask out specific values, if a mask is provided.\n",
    "        [3] Convert the attention score into probabilities that sum to 1 by passing it through a softmax function\n",
    "        [4] Multiply the attention weights (probs) by the values (V)\n",
    "        \"\"\"\n",
    "        # Calculate attention scores\n",
    "        attn_scores = torch.matmul(Q, K.transpose(-2, -1)) / math.sqrt(self.d_k)\n",
    "\n",
    "        # Apply mask if provided (useful for preventing attention to certain parts like padding)\n",
    "        if mask is not None:\n",
    "            attn_scores = attn_scores.masked_fill(mask == 0, -1e9)\n",
    "\n",
    "        # Apply softmax to obtain attention probabilities\n",
    "        attn_probs = torch.softmax(attn_scores, dim=-1)\n",
    "\n",
    "        # Multiply by values to obtain the final output\n",
    "        output = torch.matmul(attn_probs, V)\n",
    "        return output\n",
    "\n",
    "    def split_heads(self, x):\n",
    "        \"\"\"\n",
    "        [1] Reshape the input x into the shape (batch_size, num_heads, seq_length, d_k), enabling the model to process multiple attention heads concurrently alowing for parallel computation.\n",
    "        \"\"\"\n",
    "        # Reshape the input to have num_heads for multi-head attention\n",
    "        batch_size, seq_length, d_model = x.size()\n",
    "        return x.view(batch_size, seq_length, self.num_heads, self.d_k).transpose(1,2)\n",
    "\n",
    "    def combine_heads(self, x):\n",
    "        \"\"\"\n",
    "        [1] Combine the results of applying attention to each head separately back into a single tensor of shape (batch_size, seq_length, d_model)\n",
    "        \"\"\"\n",
    "        # Combine the multiple heads back to original shape\n",
    "        batch_size, _, seq_length, d_k = x.size()\n",
    "        return x.transpose(1,2).contiguous().view(batch_size, seq_length, self.d_model)\n",
    "\n",
    "    def forward(self, Q, K, V, mask=None):\n",
    "        \"\"\"\n",
    "        [1] Apply linear transformation to the queries (Q), keys (K), and values (V) using the weights defined in the initialization.\n",
    "        [2] The transformed Q, K, V are split into multiple heads using the split_heads method\n",
    "        [3] Combine the results from each head back into a single tensor.\n",
    "        [4] Apply output transformation to the combined tensor using a linear transformation\n",
    "        \"\"\"\n",
    "        # linear transformations and split heads\n",
    "        Q = self.split_heads(self.W_q(Q))\n",
    "        K = self.split_heads(self.W_k(K))\n",
    "        V = self.split_heads(self.W_v(V))\n",
    "\n",
    "        # scaled dot-product attention\n",
    "        attn_output = self.scaled_dot_product_attention(Q, K, V, mask)\n",
    "\n",
    "        # Combine heads and apply output transformation\n",
    "        output = self.W_o(self.combine_heads(attn_output))\n",
    "        return output"
   ]
  },
  {
   "cell_type": "markdown",
   "id": "2966045e",
   "metadata": {
    "_cell_guid": "4d9894ca-60d7-43e1-8d53-a90d1ced73a9",
    "_uuid": "e617fdc7-8691-4c4f-96ce-f02d4a448d37",
    "collapsed": false,
    "jupyter": {
     "outputs_hidden": false
    },
    "papermill": {
     "duration": 0.006124,
     "end_time": "2025-10-15T08:11:04.123867",
     "exception": false,
     "start_time": "2025-10-15T08:11:04.117743",
     "status": "completed"
    },
    "tags": []
   },
   "source": [
    "## Position-wise feed-forward networks"
   ]
  },
  {
   "cell_type": "code",
   "execution_count": 11,
   "id": "c0ee3175",
   "metadata": {
    "_cell_guid": "093151a2-83c8-4a9f-97d6-fb6f0cb8ecc0",
    "_uuid": "0c1eedda-b7b0-4490-8f13-790516a34c54",
    "collapsed": false,
    "execution": {
     "iopub.execute_input": "2025-10-15T08:11:04.137104Z",
     "iopub.status.busy": "2025-10-15T08:11:04.136916Z",
     "iopub.status.idle": "2025-10-15T08:11:04.141127Z",
     "shell.execute_reply": "2025-10-15T08:11:04.140613Z"
    },
    "jupyter": {
     "outputs_hidden": false
    },
    "papermill": {
     "duration": 0.012003,
     "end_time": "2025-10-15T08:11:04.142098",
     "exception": false,
     "start_time": "2025-10-15T08:11:04.130095",
     "status": "completed"
    },
    "tags": []
   },
   "outputs": [],
   "source": [
    "class PositionWiseFeedForward(nn.Module):\n",
    "    \"\"\"\n",
    "    Define a position-wise feed-forward neural network that consists of two linear layers with a ReLU activation function in between. \n",
    "    In the transformer model, this feed-forward network is applied to each position separately and identically.\n",
    "    Args:\n",
    "        d_model: Dimensionality of model's input and output\n",
    "        d_ff: Dimensionality of the inner layer in the feed-forward network\n",
    "    \"\"\"\n",
    "    def __init__(self, d_model, d_ff):\n",
    "        \"\"\"\n",
    "        Two fully connected (linear) layers with input and output dimensions as defined by d_model and d_ff\n",
    "        \"\"\"\n",
    "        super(PositionWiseFeedForward, self).__init__()\n",
    "        self.fc1 = nn.Linear(d_model, d_ff)\n",
    "        self.fc2 = nn.Linear(d_ff, d_model)\n",
    "        self.relu = nn.ReLU()\n",
    "\n",
    "    def forward(self, x):\n",
    "        return self.fc2(self.relu(self.fc1(x)))"
   ]
  },
  {
   "cell_type": "markdown",
   "id": "e90c9d83",
   "metadata": {
    "_cell_guid": "74eecb29-4aa9-4f67-bbaa-27619782036e",
    "_uuid": "45e9ea10-cf44-40bc-b68f-6d86fd9528d8",
    "collapsed": false,
    "jupyter": {
     "outputs_hidden": false
    },
    "papermill": {
     "duration": 0.006136,
     "end_time": "2025-10-15T08:11:04.154407",
     "exception": false,
     "start_time": "2025-10-15T08:11:04.148271",
     "status": "completed"
    },
    "tags": []
   },
   "source": [
    "## Positional Encoding"
   ]
  },
  {
   "cell_type": "code",
   "execution_count": 12,
   "id": "d41df0d2",
   "metadata": {
    "_cell_guid": "b3ccf258-96dc-4512-9720-033ce3c0b430",
    "_uuid": "ebfb5fa4-2d17-4ce4-8129-390f780ac547",
    "collapsed": false,
    "execution": {
     "iopub.execute_input": "2025-10-15T08:11:04.167710Z",
     "iopub.status.busy": "2025-10-15T08:11:04.167081Z",
     "iopub.status.idle": "2025-10-15T08:11:04.172397Z",
     "shell.execute_reply": "2025-10-15T08:11:04.171872Z"
    },
    "jupyter": {
     "outputs_hidden": false
    },
    "papermill": {
     "duration": 0.012831,
     "end_time": "2025-10-15T08:11:04.173357",
     "exception": false,
     "start_time": "2025-10-15T08:11:04.160526",
     "status": "completed"
    },
    "tags": []
   },
   "outputs": [],
   "source": [
    "class PositionalEncoding(nn.Module):\n",
    "    \"\"\"\n",
    "    Injects the the position information of each token in the input sequence, using sine and cosine functions of different frequencies to generate the positional encoding\n",
    "    Args:\n",
    "        d_model: the dimension of the model's input\n",
    "        max_seq_length: the maximum length of the sequence of which position encoding are pre-computed\n",
    "        pe: a tensor filled with zeros, which will be populated with positional encodings\n",
    "        position: a tensor containing the positio indices for each position in the sequence\n",
    "        div_term: a term used to scale the position indices in a specific wa\n",
    "\n",
    "    Extra:\n",
    "        the sine function is applied to the even indices and the cosine function to the odd indices of pe\n",
    "        then pe is registered as a buffer, which means it will be part of the modules' state but will not be considered a trainable parameter.\n",
    "    \"\"\"\n",
    "    def __init__(self, d_model, max_seq_length):\n",
    "        super(PositionalEncoding, self).__init__()\n",
    "        pe = torch.zeros(max_seq_length, d_model)\n",
    "        position = torch.arange(0, max_seq_length, dtype=torch.float).unsqueeze(1)\n",
    "        div_term = torch.exp(torch.arange(0, d_model, 2).float() * \n",
    "                             -(math.log(10000.0)/d_model))\n",
    "\n",
    "        pe[:, 0::2] = torch.sin(position * div_term)\n",
    "        pe[:, 1::2] = torch.cos(position * div_term)\n",
    "\n",
    "        self.register_buffer('pe', pe.unsqueeze(0))\n",
    "\n",
    "    def forward(self, x):\n",
    "        return x + self.pe[:, :x.size(1)]"
   ]
  },
  {
   "cell_type": "markdown",
   "id": "c0a2f545",
   "metadata": {
    "_cell_guid": "e87bfdda-f121-4cb5-95c4-6744b0c9ff64",
    "_uuid": "abee97a8-e638-4222-b0f4-91f5ff17b594",
    "collapsed": false,
    "jupyter": {
     "outputs_hidden": false
    },
    "papermill": {
     "duration": 0.006226,
     "end_time": "2025-10-15T08:11:04.186471",
     "exception": false,
     "start_time": "2025-10-15T08:11:04.180245",
     "status": "completed"
    },
    "tags": []
   },
   "source": [
    "## Encoder Blocks"
   ]
  },
  {
   "cell_type": "code",
   "execution_count": 13,
   "id": "c8d118cc",
   "metadata": {
    "_cell_guid": "83c8a428-0904-4cd5-af2b-04d666449567",
    "_uuid": "02dbdb02-c0e1-4b4e-969f-f1a901a5a959",
    "collapsed": false,
    "execution": {
     "iopub.execute_input": "2025-10-15T08:11:04.199798Z",
     "iopub.status.busy": "2025-10-15T08:11:04.199358Z",
     "iopub.status.idle": "2025-10-15T08:11:04.204059Z",
     "shell.execute_reply": "2025-10-15T08:11:04.203437Z"
    },
    "jupyter": {
     "outputs_hidden": false
    },
    "papermill": {
     "duration": 0.012389,
     "end_time": "2025-10-15T08:11:04.205121",
     "exception": false,
     "start_time": "2025-10-15T08:11:04.192732",
     "status": "completed"
    },
    "tags": []
   },
   "outputs": [],
   "source": [
    "class EncoderLayer(nn.Module):\n",
    "    \"\"\"\n",
    "    Args:\n",
    "        d_model: the dimensionality of the input\n",
    "        num_heads: the number of attention heads in the multi-head attention\n",
    "        d_ff: the dimensionality of the inner layer in the position-wise feed-forward network\n",
    "        dropout: the dropout rate used for regularization\n",
    "    \"\"\"\n",
    "    def __init__(self, d_model, num_heads, d_ff, dropout):\n",
    "        super(EncoderLayer, self).__init__()\n",
    "        self.self_attn = MultiHeadAttention(d_model, num_heads)\n",
    "        self.feed_forward = PositionWiseFeedForward(d_model, d_ff)\n",
    "        self.norm1 = nn.LayerNorm(d_model)\n",
    "        self.norm2 = nn.LayerNorm(d_model)\n",
    "        self.dropout = nn.Dropout(dropout)\n",
    "\n",
    "    def forward(self, x, mask):\n",
    "        attn_output = self.self_attn(x, x, x, mask)\n",
    "        x = self.norm1(x + self.dropout(attn_output))\n",
    "        ff_output = self.feed_forward(x)\n",
    "        x = self.norm2(x + self.dropout(ff_output))\n",
    "        return x"
   ]
  },
  {
   "cell_type": "markdown",
   "id": "7c8a9155",
   "metadata": {
    "_cell_guid": "8264102b-c76c-4efa-9067-4ea4b06627ea",
    "_uuid": "b9b7b24c-31ab-4862-afbd-163766e172ed",
    "collapsed": false,
    "jupyter": {
     "outputs_hidden": false
    },
    "papermill": {
     "duration": 0.006053,
     "end_time": "2025-10-15T08:11:04.217371",
     "exception": false,
     "start_time": "2025-10-15T08:11:04.211318",
     "status": "completed"
    },
    "tags": []
   },
   "source": [
    "## Neural Network"
   ]
  },
  {
   "cell_type": "code",
   "execution_count": 14,
   "id": "3b7632b7",
   "metadata": {
    "_cell_guid": "40bb96b4-f3d2-432e-9c9d-83cdd8ee82d0",
    "_uuid": "a05c84b1-eaeb-46b5-9dd1-459bdb834546",
    "collapsed": false,
    "execution": {
     "iopub.execute_input": "2025-10-15T08:11:04.230253Z",
     "iopub.status.busy": "2025-10-15T08:11:04.230073Z",
     "iopub.status.idle": "2025-10-15T08:11:04.237084Z",
     "shell.execute_reply": "2025-10-15T08:11:04.236593Z"
    },
    "jupyter": {
     "outputs_hidden": false
    },
    "papermill": {
     "duration": 0.0146,
     "end_time": "2025-10-15T08:11:04.238016",
     "exception": false,
     "start_time": "2025-10-15T08:11:04.223416",
     "status": "completed"
    },
    "tags": []
   },
   "outputs": [],
   "source": [
    "class EmotNet(nn.Module):\n",
    "    \"\"\"\n",
    "    Transformer-based classifier network.\n",
    "\n",
    "    Uses:\n",
    "      - Token + Positional embeddings\n",
    "      - CLS token for classification\n",
    "      - Stacked EncoderLayers (each with multi-head attention + FFN)\n",
    "      - Final MLP classifier on CLS representation\n",
    "    \"\"\"\n",
    "    def __init__(self, vocab_size, d_model=64, nhead=4,\n",
    "                 num_layers=2, num_classes=6, max_seq_length=128, dropout=0.1):\n",
    "        super(EmotNet, self).__init__()\n",
    "\n",
    "        # === Embedding layers ===\n",
    "        self.token_embedding = nn.Embedding(vocab_size, d_model)\n",
    "        self.pos_encoding = PositionalEncoding(d_model, max_seq_length + 1)\n",
    "        self.d_model = d_model\n",
    "        self.dropout = nn.Dropout(dropout)\n",
    "\n",
    "        # === Transformer encoder stack ===\n",
    "        self.encoder_layers = nn.ModuleList([\n",
    "            EncoderLayer(d_model, nhead, d_model * 4, dropout)\n",
    "            for _ in range(num_layers)\n",
    "        ])\n",
    "\n",
    "        # === Classification head ===\n",
    "        self.classifier = nn.Sequential(\n",
    "            nn.Linear(d_model, d_model // 2),\n",
    "            nn.ReLU(),\n",
    "            nn.Dropout(dropout),\n",
    "            nn.Linear(d_model // 2, num_classes)\n",
    "        )\n",
    "\n",
    "        # [CLS] token (learnable parameter)\n",
    "        self.cls_token = nn.Parameter(torch.randn(1, 1, d_model))\n",
    "\n",
    "    def forward(self, x, attention_mask=None):\n",
    "        \"\"\"\n",
    "        Args:\n",
    "            x: (batch_size, seq_len)\n",
    "            attention_mask: (batch_size, seq_len), with 1 for valid tokens and 0 for padding\n",
    "        Returns:\n",
    "            output: (batch_size, num_classes)\n",
    "        \"\"\"\n",
    "        batch_size, seq_len = x.shape\n",
    "\n",
    "        # === 1. Token + CLS embeddings ===\n",
    "        token_embeddings = self.token_embedding(x) * math.sqrt(self.d_model)  # (B, L, D)\n",
    "        cls_tokens = self.cls_token.expand(batch_size, -1, -1)                # (B, 1, D)\n",
    "        embeddings = torch.cat([cls_tokens, token_embeddings], dim=1)         # (B, L+1, D)\n",
    "\n",
    "        # === 2. Add positional encoding ===\n",
    "        embeddings = self.pos_encoding(embeddings)\n",
    "        embeddings = self.dropout(embeddings)\n",
    "\n",
    "        # === 3. Prepare attention mask ===\n",
    "        if attention_mask is not None:\n",
    "            cls_mask = torch.ones(batch_size, 1, device=attention_mask.device)\n",
    "            extended_mask = torch.cat([cls_mask, attention_mask], dim=1)  # (B, L+1)\n",
    "            # transform mask to shape (B, 1, 1, L+1)\n",
    "            mask = extended_mask.unsqueeze(1).unsqueeze(2)\n",
    "        else:\n",
    "            mask = None\n",
    "\n",
    "        # === 4. Pass through encoder layers ===\n",
    "        x = embeddings\n",
    "        for layer in self.encoder_layers:\n",
    "            x = layer(x, mask) \n",
    "\n",
    "        # === 5. Take CLS token representation ===\n",
    "        cls_output = x[:, 0, :]  # (B, D)\n",
    "\n",
    "        # === 6. Classification ===\n",
    "        output = self.classifier(cls_output)  # (B, num_classes)\n",
    "        return output"
   ]
  },
  {
   "cell_type": "markdown",
   "id": "4d59f62e",
   "metadata": {
    "_cell_guid": "1f0a62ee-2751-4fe1-84bc-7c69ed85223e",
    "_uuid": "7ddbd2e2-cc43-4716-aba3-075368bf0f57",
    "collapsed": false,
    "jupyter": {
     "outputs_hidden": false
    },
    "papermill": {
     "duration": 0.005933,
     "end_time": "2025-10-15T08:11:04.249978",
     "exception": false,
     "start_time": "2025-10-15T08:11:04.244045",
     "status": "completed"
    },
    "tags": []
   },
   "source": [
    "## Traning with early stopping function"
   ]
  },
  {
   "cell_type": "code",
   "execution_count": 15,
   "id": "399535a1",
   "metadata": {
    "_cell_guid": "5348619d-cb05-4616-9258-f361063f57d1",
    "_uuid": "de9dab38-8354-40a0-876e-4f3b908600ef",
    "collapsed": false,
    "execution": {
     "iopub.execute_input": "2025-10-15T08:11:04.262983Z",
     "iopub.status.busy": "2025-10-15T08:11:04.262682Z",
     "iopub.status.idle": "2025-10-15T08:11:04.275457Z",
     "shell.execute_reply": "2025-10-15T08:11:04.274800Z"
    },
    "jupyter": {
     "outputs_hidden": false
    },
    "papermill": {
     "duration": 0.020383,
     "end_time": "2025-10-15T08:11:04.276366",
     "exception": false,
     "start_time": "2025-10-15T08:11:04.255983",
     "status": "completed"
    },
    "tags": []
   },
   "outputs": [],
   "source": [
    "def training_with_early_stopping(\n",
    "    model, train_loader, val_loader, loss_fn, optimizer, epochs, device, es_flag=False,\n",
    "    patience=3, profile_run=False, profile_dir=\"profiling\",\n",
    "):\n",
    "    os.makedirs(profile_dir, exist_ok=True)\n",
    "\n",
    "    history = {\n",
    "    'train_loss': [], 'train_acc': [], \n",
    "    'val_loss': [], 'val_acc': [],\n",
    "    'train_time_s': [], 'val_time_s': [], 'epoch_time_s': [] \n",
    "    }\n",
    "    best_val_loss = float('inf')\n",
    "    patience_counter = 0\n",
    "    best_model_weights = None\n",
    "\n",
    "\n",
    "    for epoch in tqdm(range(epochs)):\n",
    "        epoch_start = time.time()\n",
    "\n",
    "        train_start = time.time()\n",
    "        model.train()\n",
    "        train_loss, train_correct, total_train = 0, 0, 0\n",
    "        start = time.time()\n",
    "        if profile_run and epoch == 0:\n",
    "            print(\"[Profiler] Profiling one epoch...\")\n",
    "            with profile(\n",
    "                activities=[ProfilerActivity.CPU],\n",
    "                record_shapes=True,\n",
    "                profile_memory=True,\n",
    "                with_stack=True,\n",
    "                on_trace_ready=torch.profiler.tensorboard_trace_handler(profile_dir)\n",
    "            ) as prof:\n",
    "                for i, batch in enumerate(train_loader):\n",
    "                    input_ids = batch['input_ids'].to(device)\n",
    "                    attention_mask = batch['attention_mask'].to(device)\n",
    "                    labels = batch['labels'].to(device)\n",
    "                    \n",
    "                    optimizer.zero_grad()\n",
    "                    outputs = model(input_ids, attention_mask) \n",
    "                    loss = loss_fn(outputs, labels)\n",
    "                    loss.backward()\n",
    "                    optimizer.step()\n",
    "                    prof.step()\n",
    "\n",
    "                    # Accumulate metrics\n",
    "                    train_loss += loss.item() * input_ids.size(0)\n",
    "                    train_correct += (outputs.argmax(1) == labels).sum().item()\n",
    "                    total_train += input_ids.size(0)\n",
    "                    if i == 0:\n",
    "                        break                    \n",
    "        else:\n",
    "            for batch in train_loader:\n",
    "                input_ids = batch['input_ids'].to(device)\n",
    "                attention_mask = batch['attention_mask'].to(device)\n",
    "                labels = batch['labels'].to(device)\n",
    "                \n",
    "                optimizer.zero_grad()\n",
    "                outputs = model(input_ids, attention_mask)\n",
    "                loss = loss_fn(outputs, labels)\n",
    "                loss.backward()\n",
    "                optimizer.step()\n",
    "\n",
    "                train_loss += loss.item() * input_ids.size(0)\n",
    "                train_correct += (outputs.argmax(1) == labels).sum().item()\n",
    "                total_train += input_ids.size(0)\n",
    "        train_time = time.time() - train_start\n",
    "        \n",
    "        # Validation\n",
    "        val_start = time.time()\n",
    "        model.eval()\n",
    "        val_loss, val_correct, total_val = 0, 0, 0\n",
    "        with torch.inference_mode():\n",
    "            for batch in val_loader:\n",
    "                input_ids = batch['input_ids'].to(device)\n",
    "                attention_mask = batch['attention_mask'].to(device)\n",
    "                labels = batch['labels'].to(device)\n",
    "                \n",
    "                outputs = model(input_ids, attention_mask)  # FIX: Pass both inputs\n",
    "                val_loss += loss_fn(outputs, labels).item() * input_ids.size(0)\n",
    "                val_correct += (outputs.argmax(1) == labels).sum().item()\n",
    "                total_val += input_ids.size(0)\n",
    "\n",
    "        val_time = time.time() - val_start\n",
    "\n",
    "        epoch_time = time.time() - epoch_start\n",
    "        \n",
    "        train_loss /= total_train\n",
    "        val_loss /= total_val\n",
    "        train_acc = train_correct / total_train\n",
    "        val_acc = val_correct / total_val\n",
    "\n",
    "        history['train_loss'].append(train_loss)\n",
    "        history['train_acc'].append(train_acc)\n",
    "        history['val_loss'].append(val_loss)\n",
    "        history['val_acc'].append(val_acc)\n",
    "        history['train_time_s'].append(train_time)\n",
    "        history['val_time_s'].append(val_time)\n",
    "        history['epoch_time_s'].append(epoch_time)\n",
    "\n",
    "        print(f\"Epoch {epoch+1}/{epochs} | Train {train_loss:.4f}/{train_acc:.4f} | Val {val_loss:.4f}/{val_acc:.4f}\")\n",
    "        # Early stopping\n",
    "        if es_flag:\n",
    "            if val_loss < best_val_loss:\n",
    "                best_val_loss = val_loss\n",
    "                patience_counter = 0\n",
    "                best_model_weights = model.state_dict().copy()\n",
    "            else:\n",
    "                patience_counter += 1\n",
    "                if patience_counter >= patience:\n",
    "                    print(f\"Early stopping at epoch {epoch+1}\")\n",
    "                    model.load_state_dict(best_model_weights)\n",
    "                    break\n",
    "    print(f\"\\nAvg epoch time: {np.mean(history['epoch_time_s']):.2f}s\")\n",
    "    torch.save(best_model_weights, os.path.join(profile_dir, \"best_model.pt\"))\n",
    "    print(f\"Profiler trace saved to: {os.path.abspath(profile_dir)}\")\n",
    "\n",
    "    return history"
   ]
  },
  {
   "cell_type": "markdown",
   "id": "372f1ffc",
   "metadata": {
    "_cell_guid": "93586e57-fb1c-4665-a640-ad7f07bbbb9e",
    "_uuid": "2debc703-6af9-4aa8-9229-e09d76bb340e",
    "collapsed": false,
    "jupyter": {
     "outputs_hidden": false
    },
    "papermill": {
     "duration": 0.005998,
     "end_time": "2025-10-15T08:11:04.288511",
     "exception": false,
     "start_time": "2025-10-15T08:11:04.282513",
     "status": "completed"
    },
    "tags": []
   },
   "source": [
    "## Evaluate model full"
   ]
  },
  {
   "cell_type": "code",
   "execution_count": 16,
   "id": "3076eac6",
   "metadata": {
    "_cell_guid": "957c01b5-876d-4468-8d43-6b5bc35f52a1",
    "_uuid": "fec19d29-e9e0-4609-a763-cbec552404bd",
    "collapsed": false,
    "execution": {
     "iopub.execute_input": "2025-10-15T08:11:04.301525Z",
     "iopub.status.busy": "2025-10-15T08:11:04.301315Z",
     "iopub.status.idle": "2025-10-15T08:11:04.309799Z",
     "shell.execute_reply": "2025-10-15T08:11:04.309278Z"
    },
    "jupyter": {
     "outputs_hidden": false
    },
    "papermill": {
     "duration": 0.016319,
     "end_time": "2025-10-15T08:11:04.310863",
     "exception": false,
     "start_time": "2025-10-15T08:11:04.294544",
     "status": "completed"
    },
    "tags": []
   },
   "outputs": [],
   "source": [
    "def evaluate_model_full(model, test_dl, device, save_path='best_model.pt'):\n",
    "    if len(test_dl) == 0:\n",
    "        raise ValueError(\"Test dataloader is empty!\")\n",
    "\n",
    "    model.eval()\n",
    "\n",
    "    first_batch = next(iter(test_dl))\n",
    "    input_ids = first_batch['input_ids'].to(device)\n",
    "    attention_mask = first_batch['attention_mask'].to(device)\n",
    "\n",
    "    original_device = next(model.parameters()).device\n",
    "    model_cpu = model.cpu()\n",
    "    flop_analysis = FlopCountAnalysis(\n",
    "        model_cpu,\n",
    "        (input_ids.cpu(), attention_mask.cpu())\n",
    "    )\n",
    "    flops_per_sample = flop_analysis.total()\n",
    "    flops_by_module = {k: v for k, v in flop_analysis.by_module().items() if v > 0}\n",
    "    model.to(original_device)  # restore\n",
    "\n",
    "    total_flops = flops_per_sample * len(test_dl.dataset)\n",
    "\n",
    "    # --- 2. Full inference (measure time & memory) ---\n",
    "    if torch.cuda.is_available():\n",
    "        torch.cuda.reset_peak_memory_stats()\n",
    "        torch.cuda.empty_cache()\n",
    "\n",
    "    all_preds, all_labels = [], []\n",
    "    start_time = time.perf_counter()\n",
    "\n",
    "    with torch.inference_mode():\n",
    "        for batch in test_dl:\n",
    "            input_ids = batch['input_ids'].to(device)\n",
    "            attention_mask = batch['attention_mask'].to(device)\n",
    "            labels = batch['labels'].to(device)\n",
    "            logits = model(input_ids, attention_mask)\n",
    "            preds = logits.argmax(dim=1)\n",
    "            all_preds.extend(preds.cpu().numpy())\n",
    "            all_labels.extend(labels.cpu().numpy())\n",
    "\n",
    "    end_time = time.perf_counter()\n",
    "    peak_memory_mb = torch.cuda.max_memory_allocated() / 1e6 if torch.cuda.is_available() else 0\n",
    "\n",
    "    # --- 3. Metrics ---\n",
    "    total_samples = len(all_labels)\n",
    "    total_time = end_time - start_time\n",
    "    report = classification_report(all_labels, all_preds, output_dict=True, zero_division=0)\n",
    "    conf_matrix = confusion_matrix(all_labels, all_preds)\n",
    "    num_params = sum(p.numel() for p in model.parameters())\n",
    "    model_size_mb = num_params * 4 / 1e6\n",
    "\n",
    "    # --- 4. Results ---\n",
    "    results = {\n",
    "        \"labels\": all_labels,\n",
    "        \"predictions\": all_preds,\n",
    "        \"accuracy\": report[\"accuracy\"],\n",
    "        \"f1_macro\": report[\"macro avg\"][\"f1-score\"],\n",
    "        \"f1_weighted\": report[\"weighted avg\"][\"f1-score\"],\n",
    "        \"confusion_matrix\": conf_matrix.tolist(),\n",
    "        \"classification_report\": report,\n",
    "        \"num_parameters\": num_params,\n",
    "        \"model_size_MB\": round(model_size_mb, 2),\n",
    "        \"peak_memory_MB\": round(peak_memory_mb, 2),\n",
    "        \"total_inference_time_s\": round(total_time, 4),\n",
    "        \"prediction_time_per_sample_s\": round(total_time / total_samples, 6) if total_samples else float('nan'),\n",
    "        \"flops_per_sample\": flops_per_sample,\n",
    "        \"total_flops_inference\": total_flops,\n",
    "        \"flops_by_module\": flops_by_module,\n",
    "        \"flops_per_second\": total_flops / total_time if total_time > 0 else 0\n",
    "    }\n",
    "\n",
    "    torch.save(model.state_dict(), save_path)\n",
    "    print(f\"✅ Model saved to: {os.path.abspath(save_path)}\")\n",
    "    print(f\"\\n📊 Evaluation — Acc: {results['accuracy']:.4f} | F1-macro: {results['f1_macro']:.4f}\")\n",
    "\n",
    "    return results"
   ]
  },
  {
   "cell_type": "code",
   "execution_count": 17,
   "id": "08afbe42",
   "metadata": {
    "_cell_guid": "8d77484f-1a1b-4079-b9cd-0639d94b8dd5",
    "_uuid": "c6c3e2ef-6c95-4b37-99f4-c4665c547bfb",
    "collapsed": false,
    "execution": {
     "iopub.execute_input": "2025-10-15T08:11:04.324293Z",
     "iopub.status.busy": "2025-10-15T08:11:04.323898Z",
     "iopub.status.idle": "2025-10-15T08:11:04.328787Z",
     "shell.execute_reply": "2025-10-15T08:11:04.328265Z"
    },
    "jupyter": {
     "outputs_hidden": false
    },
    "papermill": {
     "duration": 0.012643,
     "end_time": "2025-10-15T08:11:04.329736",
     "exception": false,
     "start_time": "2025-10-15T08:11:04.317093",
     "status": "completed"
    },
    "tags": []
   },
   "outputs": [],
   "source": [
    "def compute_performance_metrics(model, dataloader, device):\n",
    "    model.eval()\n",
    "    all_preds = []\n",
    "    all_labels = []\n",
    "    with torch.inference_mode():\n",
    "        for batch in dataloader:\n",
    "            input_ids = batch['input_ids'].to(device)\n",
    "            attention_mask = batch['attention_mask'].to(device)\n",
    "            labels = batch['labels'].to(device)\n",
    "            \n",
    "            logits = model(input_ids, attention_mask)  \n",
    "            preds = logits.argmax(dim=1)\n",
    "            all_preds.extend(preds.cpu().numpy())\n",
    "            all_labels.extend(labels.cpu().numpy())\n",
    "\n",
    "    accuracy = accuracy_score(all_labels, all_preds)\n",
    "    f1_macro = f1_score(all_labels, all_preds, average='macro')\n",
    "    f1_weighted = f1_score(all_labels, all_preds, average='weighted')\n",
    "    \n",
    "    return {\n",
    "        'accuracy': accuracy,\n",
    "        'f1_macro': f1_macro,\n",
    "        'f1_weighted': f1_weighted,\n",
    "        'predictions': all_preds,\n",
    "        'labels': all_labels\n",
    "    }"
   ]
  },
  {
   "cell_type": "code",
   "execution_count": 18,
   "id": "38ef7556",
   "metadata": {
    "_kg_hide-input": true,
    "execution": {
     "iopub.execute_input": "2025-10-15T08:11:04.343108Z",
     "iopub.status.busy": "2025-10-15T08:11:04.342725Z",
     "iopub.status.idle": "2025-10-15T08:11:04.346937Z",
     "shell.execute_reply": "2025-10-15T08:11:04.346413Z"
    },
    "jupyter": {
     "source_hidden": true
    },
    "papermill": {
     "duration": 0.011928,
     "end_time": "2025-10-15T08:11:04.347902",
     "exception": false,
     "start_time": "2025-10-15T08:11:04.335974",
     "status": "completed"
    },
    "tags": []
   },
   "outputs": [],
   "source": [
    "def default_json_serializer(obj):\n",
    "    \"\"\"\n",
    "    Convert common non-serializable types to JSON-friendly formats.\n",
    "    Handles: numpy scalars, numpy arrays, torch tensors (if needed), etc.\n",
    "    \"\"\"\n",
    "    if isinstance(obj, np.integer):\n",
    "        return int(obj)\n",
    "    elif isinstance(obj, np.floating):\n",
    "        return float(obj)\n",
    "    elif isinstance(obj, np.ndarray):\n",
    "        return obj.tolist()\n",
    "    elif hasattr(obj, 'item') and callable(getattr(obj, 'item')):\n",
    "        try:\n",
    "            return obj.item()\n",
    "        except Exception:\n",
    "            pass\n",
    "    elif hasattr(obj, 'tolist'):\n",
    "        # General fallback for array-like objects\n",
    "        try:\n",
    "            return obj.tolist()\n",
    "        except Exception:\n",
    "            pass\n",
    "    raise TypeError(f\"Object of type {type(obj)} is not JSON serializable\")"
   ]
  },
  {
   "cell_type": "markdown",
   "id": "d84f54bb",
   "metadata": {
    "papermill": {
     "duration": 0.006269,
     "end_time": "2025-10-15T08:11:04.360229",
     "exception": false,
     "start_time": "2025-10-15T08:11:04.353960",
     "status": "completed"
    },
    "tags": []
   },
   "source": [
    "## Function Calls"
   ]
  },
  {
   "cell_type": "code",
   "execution_count": 19,
   "id": "8a3517d0",
   "metadata": {
    "_cell_guid": "d853a8a2-1607-4b41-a890-8587a38749ba",
    "_uuid": "44429a54-3f7a-4ea3-b4d9-f35126800470",
    "collapsed": false,
    "execution": {
     "iopub.execute_input": "2025-10-15T08:11:04.373372Z",
     "iopub.status.busy": "2025-10-15T08:11:04.373032Z",
     "iopub.status.idle": "2025-10-15T08:11:35.062641Z",
     "shell.execute_reply": "2025-10-15T08:11:35.061828Z"
    },
    "jupyter": {
     "outputs_hidden": false
    },
    "papermill": {
     "duration": 30.697433,
     "end_time": "2025-10-15T08:11:35.063847",
     "exception": false,
     "start_time": "2025-10-15T08:11:04.366414",
     "status": "completed"
    },
    "tags": []
   },
   "outputs": [
    {
     "data": {
      "application/vnd.jupyter.widget-view+json": {
       "model_id": "43561d65b503419db3eecf4bcee4621c",
       "version_major": 2,
       "version_minor": 0
      },
      "text/plain": [
       "  0%|          | 0/50 [00:00<?, ?it/s]"
      ]
     },
     "metadata": {},
     "output_type": "display_data"
    },
    {
     "name": "stdout",
     "output_type": "stream",
     "text": [
      "[Profiler] Profiling one epoch...\n",
      "Epoch 1/50 | Train 1.7683/0.3438 | Val 1.8195/0.2202\n",
      "Epoch 2/50 | Train 1.6675/0.3248 | Val 1.3842/0.5238\n",
      "Epoch 3/50 | Train 1.1615/0.5930 | Val 0.8561/0.7292\n",
      "Epoch 4/50 | Train 0.9382/0.7000 | Val 0.7322/0.7649\n",
      "Epoch 5/50 | Train 0.7244/0.7777 | Val 0.6260/0.8155\n",
      "Epoch 6/50 | Train 0.6562/0.7943 | Val 0.5950/0.8274\n",
      "Epoch 7/50 | Train 0.5778/0.8210 | Val 0.5919/0.8214\n",
      "Epoch 8/50 | Train 0.5573/0.8223 | Val 0.5945/0.8304\n",
      "Epoch 9/50 | Train 0.5468/0.8312 | Val 0.5882/0.8244\n",
      "Epoch 10/50 | Train 0.4841/0.8554 | Val 0.6496/0.8155\n",
      "Epoch 11/50 | Train 0.4240/0.8637 | Val 0.6619/0.7946\n",
      "Epoch 12/50 | Train 0.4005/0.8713 | Val 0.6755/0.8065\n",
      "Epoch 13/50 | Train 0.3717/0.8873 | Val 0.6936/0.8095\n",
      "Epoch 14/50 | Train 0.3298/0.9006 | Val 0.7103/0.7976\n",
      "Epoch 15/50 | Train 0.3400/0.8936 | Val 0.7990/0.7768\n",
      "Epoch 16/50 | Train 0.3061/0.8975 | Val 0.7847/0.7887\n",
      "Epoch 17/50 | Train 0.3027/0.9025 | Val 0.7595/0.7976\n",
      "Epoch 18/50 | Train 0.2908/0.9096 | Val 0.8724/0.7768\n",
      "Epoch 19/50 | Train 0.3030/0.9057 | Val 0.7464/0.8274\n",
      "Epoch 20/50 | Train 0.3528/0.8885 | Val 0.7388/0.8065\n",
      "Epoch 21/50 | Train 0.2863/0.9153 | Val 0.8255/0.7887\n",
      "Epoch 22/50 | Train 0.2383/0.9223 | Val 0.7657/0.8125\n",
      "Epoch 23/50 | Train 0.2404/0.9204 | Val 0.8126/0.8006\n",
      "Epoch 24/50 | Train 0.1896/0.9389 | Val 0.8295/0.8155\n",
      "Epoch 25/50 | Train 0.1897/0.9357 | Val 0.9355/0.7351\n",
      "Epoch 26/50 | Train 0.2136/0.9344 | Val 0.8899/0.7768\n",
      "Epoch 27/50 | Train 0.1998/0.9414 | Val 0.8893/0.7887\n",
      "Epoch 28/50 | Train 0.1552/0.9490 | Val 0.9687/0.7708\n",
      "Epoch 29/50 | Train 0.2188/0.9255 | Val 0.9554/0.7798\n",
      "Epoch 30/50 | Train 0.1949/0.9363 | Val 0.9019/0.7768\n",
      "Epoch 31/50 | Train 0.1522/0.9516 | Val 0.8152/0.8214\n",
      "Epoch 32/50 | Train 0.1323/0.9631 | Val 0.8529/0.8185\n",
      "Epoch 33/50 | Train 0.1388/0.9567 | Val 0.9343/0.7798\n",
      "Epoch 34/50 | Train 0.2045/0.9357 | Val 0.8711/0.8095\n",
      "Epoch 35/50 | Train 0.1406/0.9535 | Val 0.8457/0.8155\n",
      "Epoch 36/50 | Train 0.1220/0.9599 | Val 0.9457/0.7976\n",
      "Epoch 37/50 | Train 0.1206/0.9656 | Val 0.9020/0.7887\n",
      "Epoch 38/50 | Train 0.1106/0.9637 | Val 0.9327/0.8065\n",
      "Epoch 39/50 | Train 0.1263/0.9567 | Val 1.0161/0.8036\n",
      "Epoch 40/50 | Train 0.0975/0.9688 | Val 1.0362/0.8006\n",
      "Epoch 41/50 | Train 0.1314/0.9561 | Val 1.0375/0.7798\n",
      "Epoch 42/50 | Train 0.1318/0.9586 | Val 1.0585/0.7976\n",
      "Epoch 43/50 | Train 0.0985/0.9732 | Val 1.0868/0.7827\n",
      "Epoch 44/50 | Train 0.1022/0.9656 | Val 1.0633/0.7857\n",
      "Epoch 45/50 | Train 0.1119/0.9637 | Val 1.1059/0.7946\n",
      "Epoch 46/50 | Train 0.1433/0.9605 | Val 1.1103/0.7887\n",
      "Epoch 47/50 | Train 0.0783/0.9713 | Val 1.0805/0.7917\n",
      "Epoch 48/50 | Train 0.0812/0.9726 | Val 1.1300/0.7768\n",
      "Epoch 49/50 | Train 0.1173/0.9662 | Val 1.0349/0.8006\n",
      "Epoch 50/50 | Train 0.0865/0.9745 | Val 1.0243/0.7946\n",
      "\n",
      "Avg epoch time: 0.49s\n",
      "Profiler trace saved to: /kaggle/working/profiling\n",
      "✅ Model saved to: /kaggle/working/best_model.pt\n",
      "\n",
      "📊 Evaluation — Acc: 0.7923 | F1-macro: 0.7960\n"
     ]
    }
   ],
   "source": [
    "set_seed()\n",
    "\n",
    "epochs = 50\n",
    "\n",
    "model = EmotNet(vocab_size=vocab_size, num_classes=num_classes, max_seq_length=max_length).to(device)\n",
    "optimizer = torch.optim.Adam(model.parameters(), lr=1e-3)\n",
    "loss_fn = nn.CrossEntropyLoss()\n",
    "\n",
    "# -- training phase\n",
    "history = training_with_early_stopping(\n",
    "    model, train_loader, val_loader,\n",
    "    loss_fn, optimizer,\n",
    "    epochs=epochs, device=device, \n",
    "    es_flag=False,patience=3,\n",
    "    profile_run=True\n",
    ")\n",
    "with open(f'training_history_v1_{epochs}.json', 'w') as f:\n",
    "    json.dump(history, f, indent=2, default=default_json_serializer)\n",
    "\n",
    "\n",
    "# -- evaluation phase\n",
    "results = evaluate_model_full(model, test_loader, device)\n",
    "with open(f'evaluation_results_v1_{epochs}.json', 'w') as f:\n",
    "    json.dump(results, f, indent=2, default=default_json_serializer)"
   ]
  },
  {
   "cell_type": "code",
   "execution_count": 20,
   "id": "36cb5d0d",
   "metadata": {
    "execution": {
     "iopub.execute_input": "2025-10-15T08:11:35.082146Z",
     "iopub.status.busy": "2025-10-15T08:11:35.081803Z",
     "iopub.status.idle": "2025-10-15T08:11:35.084943Z",
     "shell.execute_reply": "2025-10-15T08:11:35.084426Z"
    },
    "papermill": {
     "duration": 0.013012,
     "end_time": "2025-10-15T08:11:35.085977",
     "exception": false,
     "start_time": "2025-10-15T08:11:35.072965",
     "status": "completed"
    },
    "tags": []
   },
   "outputs": [],
   "source": [
    "# print(f\"Result's features: {results.keys()} \\nHistory's features: {history.keys()}\")"
   ]
  },
  {
   "cell_type": "markdown",
   "id": "759df0fe",
   "metadata": {
    "papermill": {
     "duration": 0.008054,
     "end_time": "2025-10-15T08:11:35.102176",
     "exception": false,
     "start_time": "2025-10-15T08:11:35.094122",
     "status": "completed"
    },
    "tags": []
   },
   "source": [
    "## Model Summary Test"
   ]
  },
  {
   "cell_type": "code",
   "execution_count": 21,
   "id": "57f10359",
   "metadata": {
    "_cell_guid": "34755042-bd38-4ac1-98c7-1b70122a0552",
    "_uuid": "5bf869b8-54ba-416f-aa10-efc6dcbcad65",
    "collapsed": false,
    "execution": {
     "iopub.execute_input": "2025-10-15T08:11:35.119466Z",
     "iopub.status.busy": "2025-10-15T08:11:35.119225Z",
     "iopub.status.idle": "2025-10-15T08:11:35.188952Z",
     "shell.execute_reply": "2025-10-15T08:11:35.188049Z"
    },
    "jupyter": {
     "outputs_hidden": false
    },
    "papermill": {
     "duration": 0.079735,
     "end_time": "2025-10-15T08:11:35.190066",
     "exception": false,
     "start_time": "2025-10-15T08:11:35.110331",
     "status": "completed"
    },
    "tags": []
   },
   "outputs": [
    {
     "name": "stdout",
     "output_type": "stream",
     "text": [
      "Model Summary:\n",
      "Total parameters: 313,126\n",
      "Model size (MB): 1.25 MB\n",
      "Peak memory allocated: 27.13 MB\n"
     ]
    }
   ],
   "source": [
    "# move test inputs to same device as model\n",
    "print(\"Model Summary:\")\n",
    "device = next(model.parameters()).device  # Get model's device\n",
    "summary(model, input_data=[torch.randint(0, vocab_size, (1, max_length)).to(device), \n",
    "                          torch.ones(1, max_length, dtype=torch.long).to(device)])\n",
    "\n",
    "# Memory footprint\n",
    "param_size = sum(p.numel() for p in model.parameters())\n",
    "print(f\"Total parameters: {param_size:,}\")\n",
    "print(f\"Model size (MB): {param_size * 4 / 1e6:.2f} MB\")\n",
    "\n",
    "# GPU memory usage after a batch\n",
    "if torch.cuda.is_available():\n",
    "    torch.cuda.reset_peak_memory_stats()\n",
    "    with torch.no_grad():\n",
    "        test_batch = next(iter(val_loader))\n",
    "        input_ids = test_batch['input_ids'].to(device)\n",
    "        attention_mask = test_batch['attention_mask'].to(device)\n",
    "        _ = model(input_ids, attention_mask)\n",
    "    print(f\"Peak memory allocated: {torch.cuda.max_memory_allocated() / 1e6:.2f} MB\")"
   ]
  },
  {
   "cell_type": "code",
   "execution_count": 22,
   "id": "b43b5aa8",
   "metadata": {
    "_cell_guid": "43a1846c-eb47-4f39-96a3-4115aac6bbf3",
    "_uuid": "36cd5b2e-f7bd-4043-b940-dc018dac8ea5",
    "collapsed": false,
    "execution": {
     "iopub.execute_input": "2025-10-15T08:11:35.207650Z",
     "iopub.status.busy": "2025-10-15T08:11:35.207430Z",
     "iopub.status.idle": "2025-10-15T08:11:36.578141Z",
     "shell.execute_reply": "2025-10-15T08:11:36.577510Z"
    },
    "jupyter": {
     "outputs_hidden": false
    },
    "papermill": {
     "duration": 1.383233,
     "end_time": "2025-10-15T08:11:36.581702",
     "exception": false,
     "start_time": "2025-10-15T08:11:35.198469",
     "status": "completed"
    },
    "tags": []
   },
   "outputs": [
    {
     "data": {
      "image/png": "[encoded data removed]",
      "text/plain": [
       "<Figure size 2000x1200 with 7 Axes>"
      ]
     },
     "metadata": {},
     "output_type": "display_data"
    }
   ],
   "source": [
    "def create_comprehensive_visualizations(history, results, model, class_names):\n",
    "    fig, axes = plt.subplots(2, 3, figsize=(20, 12))\n",
    "    \n",
    "    # 1. Training History\n",
    "    axes[0,0].plot(history['train_loss'], label='Train Loss')\n",
    "    axes[0,0].plot(history['val_loss'], label='Val Loss')\n",
    "    axes[0,0].set_title('Training & Validation Loss')\n",
    "    axes[0,0].legend()\n",
    "    \n",
    "    axes[0,1].plot(history['train_acc'], label='Train Accuracy')\n",
    "    axes[0,1].plot(history['val_acc'], label='Val Accuracy') \n",
    "    axes[0,1].set_title('Training & Validation Accuracy')\n",
    "    axes[0,1].legend()\n",
    "    \n",
    "    # 2. Confusion Matrix\n",
    "    cm = confusion_matrix(results['labels'], results['predictions'])\n",
    "    sns.heatmap(cm, annot=True, fmt='d', xticklabels=class_names, \n",
    "                yticklabels=class_names, ax=axes[0,2])\n",
    "    axes[0,2].set_title('Confusion Matrix')\n",
    "    \n",
    "    # 3. Performance Metrics\n",
    "    metrics = ['accuracy', 'f1_macro', 'f1_weighted']\n",
    "    values = [results[m] for m in metrics]\n",
    "    axes[1,0].bar(metrics, values, color=['skyblue', 'lightcoral', 'lightgreen'])\n",
    "    axes[1,0].set_title('Test Set Performance')\n",
    "    \n",
    "    # 4. Class-wise Performance\n",
    "    report = classification_report(results['labels'], results['predictions'], \n",
    "                                  output_dict=True, target_names=class_names)\n",
    "    class_metrics = []\n",
    "    for cls in class_names:\n",
    "        class_metrics.append({\n",
    "            'class': cls,\n",
    "            'precision': report[cls]['precision'],\n",
    "            'recall': report[cls]['recall'], \n",
    "            'f1': report[cls]['f1-score']\n",
    "        })\n",
    "    df_class = pd.DataFrame(class_metrics)\n",
    "    df_class.plot(x='class', y=['precision', 'recall', 'f1'], \n",
    "                  kind='bar', ax=axes[1,1])\n",
    "    axes[1,1].set_title('Class-wise Performance')\n",
    "    \n",
    "    # 5. Model Architecture Summary\n",
    "    param_count = sum(p.numel() for p in model.parameters())\n",
    "    trainable_count = sum(p.numel() for p in model.parameters() if p.requires_grad)\n",
    "    layers_info = []\n",
    "    for name, module in model.named_children():\n",
    "        layers_info.append({\n",
    "            'layer': name,\n",
    "            'parameters': sum(p.numel() for p in module.parameters())\n",
    "        })\n",
    "    df_layers = pd.DataFrame(layers_info)\n",
    "    axes[1,2].bar(df_layers['layer'], df_layers['parameters'])\n",
    "    axes[1,2].set_title(f'Model: {param_count:,} params ({trainable_count:,} trainable)')\n",
    "    plt.xticks(rotation=45)\n",
    "    \n",
    "    plt.tight_layout()\n",
    "    plt.show()\n",
    "\n",
    "# Usage\n",
    "class_names = train_dataset.label_encoder.classes_\n",
    "create_comprehensive_visualizations(history, results, model, class_names)"
   ]
  },
  {
   "cell_type": "code",
   "execution_count": null,
   "id": "107f68a6",
   "metadata": {
    "papermill": {
     "duration": 0.012151,
     "end_time": "2025-10-15T08:11:36.606614",
     "exception": false,
     "start_time": "2025-10-15T08:11:36.594463",
     "status": "completed"
    },
    "tags": []
   },
   "outputs": [],
   "source": []
  }
 ],
 "metadata": {
  "kaggle": {
   "accelerator": "nvidiaTeslaT4",
   "dataSources": [
    {
     "datasetId": 8422736,
     "sourceId": 13289672,
     "sourceType": "datasetVersion"
    }
   ],
   "dockerImageVersionId": 31153,
   "isGpuEnabled": true,
   "isInternetEnabled": true,
   "language": "python",
   "sourceType": "notebook"
  },
  "kernelspec": {
   "display_name": "Python 3",
   "language": "python",
   "name": "python3"
  },
  "language_info": {
   "codemirror_mode": {
    "name": "ipython",
    "version": 3
   },
   "file_extension": ".py",
   "mimetype": "text/x-python",
   "name": "python",
   "nbconvert_exporter": "python",
   "pygments_lexer": "ipython3",
   "version": "3.11.13"
  },
  "papermill": {
   "default_parameters": {},
   "duration": 62.603961,
   "end_time": "2025-10-15T08:11:39.491932",
   "environment_variables": {},
   "exception": null,
   "input_path": "__notebook__.ipynb",
   "output_path": "__notebook__.ipynb",
   "parameters": {},
   "start_time": "2025-10-15T08:10:36.887971",
   "version": "2.6.0"
  },
  "widgets": {
   "application/vnd.jupyter.widget-state+json": {
    "state": {
     "38565f8259ef44aa851dd7baae0eaffc": {
      "model_module": "@jupyter-widgets/controls",
      "model_module_version": "2.0.0",
      "model_name": "HTMLStyleModel",
      "state": {
       "_model_module": "@jupyter-widgets/controls",
       "_model_module_version": "2.0.0",
       "_model_name": "HTMLStyleModel",
       "_view_count": null,
       "_view_module": "@jupyter-widgets/base",
       "_view_module_version": "2.0.0",
       "_view_name": "StyleView",
       "background": null,
       "description_width": "",
       "font_size": null,
       "text_color": null
      }
     },
     "3a05e0a0a16f47e3a9822c70da5b0e58": {
      "model_module": "@jupyter-widgets/controls",
      "model_module_version": "2.0.0",
      "model_name": "ProgressStyleModel",
      "state": {
       "_model_module": "@jupyter-widgets/controls",
       "_model_module_version": "2.0.0",
       "_model_name": "ProgressStyleModel",
       "_view_count": null,
       "_view_module": "@jupyter-widgets/base",
       "_view_module_version": "2.0.0",
       "_view_name": "StyleView",
       "bar_color": null,
       "description_width": ""
      }
     },
     "3b929b96691147a399b458ac74d9058f": {
      "model_module": "@jupyter-widgets/base",
      "model_module_version": "2.0.0",
      "model_name": "LayoutModel",
      "state": {
       "_model_module": "@jupyter-widgets/base",
       "_model_module_version": "2.0.0",
       "_model_name": "LayoutModel",
       "_view_count": null,
       "_view_module": "@jupyter-widgets/base",
       "_view_module_version": "2.0.0",
       "_view_name": "LayoutView",
       "align_content": null,
       "align_items": null,
       "align_self": null,
       "border_bottom": null,
       "border_left": null,
       "border_right": null,
       "border_top": null,
       "bottom": null,
       "display": null,
       "flex": null,
       "flex_flow": null,
       "grid_area": null,
       "grid_auto_columns": null,
       "grid_auto_flow": null,
       "grid_auto_rows": null,
       "grid_column": null,
       "grid_gap": null,
       "grid_row": null,
       "grid_template_areas": null,
       "grid_template_columns": null,
       "grid_template_rows": null,
       "height": null,
       "justify_content": null,
       "justify_items": null,
       "left": null,
       "margin": null,
       "max_height": null,
       "max_width": null,
       "min_height": null,
       "min_width": null,
       "object_fit": null,
       "object_position": null,
       "order": null,
       "overflow": null,
       "padding": null,
       "right": null,
       "top": null,
       "visibility": null,
       "width": null
      }
     },
     "43561d65b503419db3eecf4bcee4621c": {
      "model_module": "@jupyter-widgets/controls",
      "model_module_version": "2.0.0",
      "model_name": "HBoxModel",
      "state": {
       "_dom_classes": [],
       "_model_module": "@jupyter-widgets/controls",
       "_model_module_version": "2.0.0",
       "_model_name": "HBoxModel",
       "_view_count": null,
       "_view_module": "@jupyter-widgets/controls",
       "_view_module_version": "2.0.0",
       "_view_name": "HBoxView",
       "box_style": "",
       "children": [
        "IPY_MODEL_a4ed2bc53e46479592b4327f64ce4387",
        "IPY_MODEL_7a67fb578e854a7fbf9cf7564b4c8647",
        "IPY_MODEL_fb95a9e13430412e8a938d2397ab3804"
       ],
       "layout": "IPY_MODEL_51c4b9322dcb48b99b82058fa2e7debf",
       "tabbable": null,
       "tooltip": null
      }
     },
     "51c4b9322dcb48b99b82058fa2e7debf": {
      "model_module": "@jupyter-widgets/base",
      "model_module_version": "2.0.0",
      "model_name": "LayoutModel",
      "state": {
       "_model_module": "@jupyter-widgets/base",
       "_model_module_version": "2.0.0",
       "_model_name": "LayoutModel",
       "_view_count": null,
       "_view_module": "@jupyter-widgets/base",
       "_view_module_version": "2.0.0",
       "_view_name": "LayoutView",
       "align_content": null,
       "align_items": null,
       "align_self": null,
       "border_bottom": null,
       "border_left": null,
       "border_right": null,
       "border_top": null,
       "bottom": null,
       "display": null,
       "flex": null,
       "flex_flow": null,
       "grid_area": null,
       "grid_auto_columns": null,
       "grid_auto_flow": null,
       "grid_auto_rows": null,
       "grid_column": null,
       "grid_gap": null,
       "grid_row": null,
       "grid_template_areas": null,
       "grid_template_columns": null,
       "grid_template_rows": null,
       "height": null,
       "justify_content": null,
       "justify_items": null,
       "left": null,
       "margin": null,
       "max_height": null,
       "max_width": null,
       "min_height": null,
       "min_width": null,
       "object_fit": null,
       "object_position": null,
       "order": null,
       "overflow": null,
       "padding": null,
       "right": null,
       "top": null,
       "visibility": null,
       "width": null
      }
     },
     "7a67fb578e854a7fbf9cf7564b4c8647": {
      "model_module": "@jupyter-widgets/controls",
      "model_module_version": "2.0.0",
      "model_name": "FloatProgressModel",
      "state": {
       "_dom_classes": [],
       "_model_module": "@jupyter-widgets/controls",
       "_model_module_version": "2.0.0",
       "_model_name": "FloatProgressModel",
       "_view_count": null,
       "_view_module": "@jupyter-widgets/controls",
       "_view_module_version": "2.0.0",
       "_view_name": "ProgressView",
       "bar_style": "success",
       "description": "",
       "description_allow_html": false,
       "layout": "IPY_MODEL_f6f3d8747ebe49f082094bf13d4082e9",
       "max": 50.0,
       "min": 0.0,
       "orientation": "horizontal",
       "style": "IPY_MODEL_3a05e0a0a16f47e3a9822c70da5b0e58",
       "tabbable": null,
       "tooltip": null,
       "value": 50.0
      }
     },
     "800b4ce6239d45a09eb3ed562e03b689": {
      "model_module": "@jupyter-widgets/base",
      "model_module_version": "2.0.0",
      "model_name": "LayoutModel",
      "state": {
       "_model_module": "@jupyter-widgets/base",
       "_model_module_version": "2.0.0",
       "_model_name": "LayoutModel",
       "_view_count": null,
       "_view_module": "@jupyter-widgets/base",
       "_view_module_version": "2.0.0",
       "_view_name": "LayoutView",
       "align_content": null,
       "align_items": null,
       "align_self": null,
       "border_bottom": null,
       "border_left": null,
       "border_right": null,
       "border_top": null,
       "bottom": null,
       "display": null,
       "flex": null,
       "flex_flow": null,
       "grid_area": null,
       "grid_auto_columns": null,
       "grid_auto_flow": null,
       "grid_auto_rows": null,
       "grid_column": null,
       "grid_gap": null,
       "grid_row": null,
       "grid_template_areas": null,
       "grid_template_columns": null,
       "grid_template_rows": null,
       "height": null,
       "justify_content": null,
       "justify_items": null,
       "left": null,
       "margin": null,
       "max_height": null,
       "max_width": null,
       "min_height": null,
       "min_width": null,
       "object_fit": null,
       "object_position": null,
       "order": null,
       "overflow": null,
       "padding": null,
       "right": null,
       "top": null,
       "visibility": null,
       "width": null
      }
     },
     "9be8d0c3babd4210a75f28240121766f": {
      "model_module": "@jupyter-widgets/controls",
      "model_module_version": "2.0.0",
      "model_name": "HTMLStyleModel",
      "state": {
       "_model_module": "@jupyter-widgets/controls",
       "_model_module_version": "2.0.0",
       "_model_name": "HTMLStyleModel",
       "_view_count": null,
       "_view_module": "@jupyter-widgets/base",
       "_view_module_version": "2.0.0",
       "_view_name": "StyleView",
       "background": null,
       "description_width": "",
       "font_size": null,
       "text_color": null
      }
     },
     "a4ed2bc53e46479592b4327f64ce4387": {
      "model_module": "@jupyter-widgets/controls",
      "model_module_version": "2.0.0",
      "model_name": "HTMLModel",
      "state": {
       "_dom_classes": [],
       "_model_module": "@jupyter-widgets/controls",
       "_model_module_version": "2.0.0",
       "_model_name": "HTMLModel",
       "_view_count": null,
       "_view_module": "@jupyter-widgets/controls",
       "_view_module_version": "2.0.0",
       "_view_name": "HTMLView",
       "description": "",
       "description_allow_html": false,
       "layout": "IPY_MODEL_3b929b96691147a399b458ac74d9058f",
       "placeholder": "​",
       "style": "IPY_MODEL_9be8d0c3babd4210a75f28240121766f",
       "tabbable": null,
       "tooltip": null,
       "value": "100%"
      }
     },
     "f6f3d8747ebe49f082094bf13d4082e9": {
      "model_module": "@jupyter-widgets/base",
      "model_module_version": "2.0.0",
      "model_name": "LayoutModel",
      "state": {
       "_model_module": "@jupyter-widgets/base",
       "_model_module_version": "2.0.0",
       "_model_name": "LayoutModel",
       "_view_count": null,
       "_view_module": "@jupyter-widgets/base",
       "_view_module_version": "2.0.0",
       "_view_name": "LayoutView",
       "align_content": null,
       "align_items": null,
       "align_self": null,
       "border_bottom": null,
       "border_left": null,
       "border_right": null,
       "border_top": null,
       "bottom": null,
       "display": null,
       "flex": null,
       "flex_flow": null,
       "grid_area": null,
       "grid_auto_columns": null,
       "grid_auto_flow": null,
       "grid_auto_rows": null,
       "grid_column": null,
       "grid_gap": null,
       "grid_row": null,
       "grid_template_areas": null,
       "grid_template_columns": null,
       "grid_template_rows": null,
       "height": null,
       "justify_content": null,
       "justify_items": null,
       "left": null,
       "margin": null,
       "max_height": null,
       "max_width": null,
       "min_height": null,
       "min_width": null,
       "object_fit": null,
       "object_position": null,
       "order": null,
       "overflow": null,
       "padding": null,
       "right": null,
       "top": null,
       "visibility": null,
       "width": null
      }
     },
     "fb95a9e13430412e8a938d2397ab3804": {
      "model_module": "@jupyter-widgets/controls",
      "model_module_version": "2.0.0",
      "model_name": "HTMLModel",
      "state": {
       "_dom_classes": [],
       "_model_module": "@jupyter-widgets/controls",
       "_model_module_version": "2.0.0",
       "_model_name": "HTMLModel",
       "_view_count": null,
       "_view_module": "@jupyter-widgets/controls",
       "_view_module_version": "2.0.0",
       "_view_name": "HTMLView",
       "description": "",
       "description_allow_html": false,
       "layout": "IPY_MODEL_800b4ce6239d45a09eb3ed562e03b689",
       "placeholder": "​",
       "style": "IPY_MODEL_38565f8259ef44aa851dd7baae0eaffc",
       "tabbable": null,
       "tooltip": null,
       "value": " 50/50 [00:24&lt;00:00,  2.09it/s]"
      }
     }
    },
    "version_major": 2,
    "version_minor": 0
   }
  }
 },
 "nbformat": 4,
 "nbformat_minor": 5
}
